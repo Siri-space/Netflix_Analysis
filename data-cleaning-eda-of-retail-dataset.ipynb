{
 "cells": [
  {
   "cell_type": "markdown",
   "id": "52ada7d4",
   "metadata": {
    "papermill": {
     "duration": 0.038675,
     "end_time": "2021-09-30T10:46:31.298979",
     "exception": false,
     "start_time": "2021-09-30T10:46:31.260304",
     "status": "completed"
    },
    "tags": []
   },
   "source": [
    "# <p style=\"background-color:#4d91ff;font-family:newtimeroman;color:#FFF9ED;font-size:140%;text-align:center;border-radius:10px 10px;\">Importing required libraries</p>"
   ]
  },
  {
   "cell_type": "code",
   "execution_count": 1,
   "id": "1f06bfd9",
   "metadata": {
    "_cell_guid": "b1076dfc-b9ad-4769-8c92-a6c4dae69d19",
    "_kg_hide-output": true,
    "_uuid": "8f2839f25d086af736a60e9eeb907d3b93b6e0e5",
    "execution": {
     "iopub.execute_input": "2021-09-30T10:46:31.398020Z",
     "iopub.status.busy": "2021-09-30T10:46:31.397426Z",
     "iopub.status.idle": "2021-09-30T10:46:32.326129Z",
     "shell.execute_reply": "2021-09-30T10:46:32.326865Z",
     "shell.execute_reply.started": "2021-09-30T10:33:53.316413Z"
    },
    "papermill": {
     "duration": 0.985961,
     "end_time": "2021-09-30T10:46:32.327246",
     "exception": false,
     "start_time": "2021-09-30T10:46:31.341285",
     "status": "completed"
    },
    "tags": []
   },
   "outputs": [
    {
     "name": "stdout",
     "output_type": "stream",
     "text": [
      "/kaggle/input/transactional-retail-dataset-of-electronics-store/warehouses.csv\n",
      "/kaggle/input/transactional-retail-dataset-of-electronics-store/dirty_data.csv\n",
      "/kaggle/input/transactional-retail-dataset-of-electronics-store/missing_data.csv\n"
     ]
    }
   ],
   "source": [
    "import os\n",
    "import numpy as np # linear algebra\n",
    "import pandas as pd # data processing, CSV file I/O (e.g. pd.read_csv)\n",
    "import matplotlib.pyplot as plt\n",
    "import seaborn as sns\n",
    "\n",
    "for dirname, _, filenames in os.walk('/kaggle/input'):\n",
    "    for filename in filenames:\n",
    "        print(os.path.join(dirname, filename))"
   ]
  },
  {
   "cell_type": "code",
   "execution_count": 2,
   "id": "1c162f90",
   "metadata": {
    "execution": {
     "iopub.execute_input": "2021-09-30T10:46:32.409394Z",
     "iopub.status.busy": "2021-09-30T10:46:32.408438Z",
     "iopub.status.idle": "2021-09-30T10:46:32.411541Z",
     "shell.execute_reply": "2021-09-30T10:46:32.410946Z",
     "shell.execute_reply.started": "2021-09-30T10:33:59.221005Z"
    },
    "papermill": {
     "duration": 0.046016,
     "end_time": "2021-09-30T10:46:32.411681",
     "exception": false,
     "start_time": "2021-09-30T10:46:32.365665",
     "status": "completed"
    },
    "tags": []
   },
   "outputs": [],
   "source": [
    "# assigning path of dirty_data.csv to variable dirty_data_path\n",
    "dirty_data_path = '/kaggle/input/transactional-retail-dataset-of-electronics-store/dirty_data.csv'\n",
    "\n",
    "# assigning path of missing_data.csv to variable missing_data_path\n",
    "missing_data_path = '/kaggle/input/transactional-retail-dataset-of-electronics-store/missing_data.csv'\n",
    "\n",
    "# assigning path of warehouses.csv to variable warehouses_path\n",
    "warehouses_path = '/kaggle/input/transactional-retail-dataset-of-electronics-store/warehouses.csv'"
   ]
  },
  {
   "cell_type": "markdown",
   "id": "0fbe1e52",
   "metadata": {
    "papermill": {
     "duration": 0.037963,
     "end_time": "2021-09-30T10:46:32.488863",
     "exception": false,
     "start_time": "2021-09-30T10:46:32.450900",
     "status": "completed"
    },
    "tags": []
   },
   "source": [
    "# <p style=\"background-color:#4d91ff;font-family:newtimeroman;color:#FFF9ED;font-size:140%;text-align:center;border-radius:10px 10px;\">Reading csv file</p>"
   ]
  },
  {
   "cell_type": "code",
   "execution_count": 3,
   "id": "c66adbd8",
   "metadata": {
    "execution": {
     "iopub.execute_input": "2021-09-30T10:46:32.570378Z",
     "iopub.status.busy": "2021-09-30T10:46:32.569557Z",
     "iopub.status.idle": "2021-09-30T10:46:32.590102Z",
     "shell.execute_reply": "2021-09-30T10:46:32.590545Z",
     "shell.execute_reply.started": "2021-09-30T10:34:04.717767Z"
    },
    "papermill": {
     "duration": 0.063675,
     "end_time": "2021-09-30T10:46:32.590736",
     "exception": false,
     "start_time": "2021-09-30T10:46:32.527061",
     "status": "completed"
    },
    "tags": []
   },
   "outputs": [],
   "source": [
    "dirty_data = pd.read_csv(dirty_data_path)"
   ]
  },
  {
   "cell_type": "code",
   "execution_count": 4,
   "id": "74ba8589",
   "metadata": {
    "execution": {
     "iopub.execute_input": "2021-09-30T10:46:32.677156Z",
     "iopub.status.busy": "2021-09-30T10:46:32.676562Z",
     "iopub.status.idle": "2021-09-30T10:46:32.701387Z",
     "shell.execute_reply": "2021-09-30T10:46:32.701908Z",
     "shell.execute_reply.started": "2021-09-30T10:34:06.514277Z"
    },
    "papermill": {
     "duration": 0.073154,
     "end_time": "2021-09-30T10:46:32.702068",
     "exception": false,
     "start_time": "2021-09-30T10:46:32.628914",
     "status": "completed"
    },
    "tags": []
   },
   "outputs": [
    {
     "data": {
      "text/html": [
       "<div>\n",
       "<style scoped>\n",
       "    .dataframe tbody tr th:only-of-type {\n",
       "        vertical-align: middle;\n",
       "    }\n",
       "\n",
       "    .dataframe tbody tr th {\n",
       "        vertical-align: top;\n",
       "    }\n",
       "\n",
       "    .dataframe thead th {\n",
       "        text-align: right;\n",
       "    }\n",
       "</style>\n",
       "<table border=\"1\" class=\"dataframe\">\n",
       "  <thead>\n",
       "    <tr style=\"text-align: right;\">\n",
       "      <th></th>\n",
       "      <th>order_id</th>\n",
       "      <th>customer_id</th>\n",
       "      <th>date</th>\n",
       "      <th>nearest_warehouse</th>\n",
       "      <th>shopping_cart</th>\n",
       "      <th>order_price</th>\n",
       "      <th>delivery_charges</th>\n",
       "      <th>customer_lat</th>\n",
       "      <th>customer_long</th>\n",
       "      <th>coupon_discount</th>\n",
       "      <th>order_total</th>\n",
       "      <th>season</th>\n",
       "      <th>is_expedited_delivery</th>\n",
       "      <th>distance_to_nearest_warehouse</th>\n",
       "      <th>latest_customer_review</th>\n",
       "      <th>is_happy_customer</th>\n",
       "    </tr>\n",
       "  </thead>\n",
       "  <tbody>\n",
       "    <tr>\n",
       "      <th>0</th>\n",
       "      <td>ORD182494</td>\n",
       "      <td>ID6197211592</td>\n",
       "      <td>2019-06-22</td>\n",
       "      <td>Thompson</td>\n",
       "      <td>[('Lucent 330S', 1), ('Thunder line', 2), ('iS...</td>\n",
       "      <td>12200</td>\n",
       "      <td>79.89</td>\n",
       "      <td>-37.815105</td>\n",
       "      <td>144.932843</td>\n",
       "      <td>10</td>\n",
       "      <td>11059.89</td>\n",
       "      <td>Winter</td>\n",
       "      <td>True</td>\n",
       "      <td>1.2800</td>\n",
       "      <td>perfect phone and trusted seller. phone itself...</td>\n",
       "      <td>True</td>\n",
       "    </tr>\n",
       "    <tr>\n",
       "      <th>1</th>\n",
       "      <td>ORD395518</td>\n",
       "      <td>ID0282825849</td>\n",
       "      <td>2019-12-29</td>\n",
       "      <td>Thompson</td>\n",
       "      <td>[('Thunder line', 1), ('Universe Note', 2)]</td>\n",
       "      <td>9080</td>\n",
       "      <td>62.71</td>\n",
       "      <td>-37.802736</td>\n",
       "      <td>144.951118</td>\n",
       "      <td>0</td>\n",
       "      <td>9142.71</td>\n",
       "      <td>Summer</td>\n",
       "      <td>False</td>\n",
       "      <td>1.1621</td>\n",
       "      <td>it keeps dropping calls the wifi don't work th...</td>\n",
       "      <td>False</td>\n",
       "    </tr>\n",
       "    <tr>\n",
       "      <th>2</th>\n",
       "      <td>ORD494479</td>\n",
       "      <td>ID0579391891</td>\n",
       "      <td>2019-03-02</td>\n",
       "      <td>Nickolson</td>\n",
       "      <td>[('Thunder line', 1), ('pearTV', 2)]</td>\n",
       "      <td>10670</td>\n",
       "      <td>65.87</td>\n",
       "      <td>-37.821302</td>\n",
       "      <td>144.957581</td>\n",
       "      <td>10</td>\n",
       "      <td>9668.87</td>\n",
       "      <td>Autumn</td>\n",
       "      <td>False</td>\n",
       "      <td>1.0949</td>\n",
       "      <td>five stars this is a great cheap phone.</td>\n",
       "      <td>True</td>\n",
       "    </tr>\n",
       "    <tr>\n",
       "      <th>3</th>\n",
       "      <td>ORD019224</td>\n",
       "      <td>ID4544561904</td>\n",
       "      <td>2019-01-12</td>\n",
       "      <td>Nickolson</td>\n",
       "      <td>[('Universe Note', 1), ('Alcon 10', 2), ('Oliv...</td>\n",
       "      <td>24800</td>\n",
       "      <td>57.61</td>\n",
       "      <td>-37.811416</td>\n",
       "      <td>144.973073</td>\n",
       "      <td>15</td>\n",
       "      <td>21137.61</td>\n",
       "      <td>Summer</td>\n",
       "      <td>False</td>\n",
       "      <td>0.8571</td>\n",
       "      <td>charger did not fit the charger didn't fit.</td>\n",
       "      <td>False</td>\n",
       "    </tr>\n",
       "    <tr>\n",
       "      <th>4</th>\n",
       "      <td>ORD104032</td>\n",
       "      <td>ID6231506320</td>\n",
       "      <td>2019-11-28</td>\n",
       "      <td>Nickolson</td>\n",
       "      <td>[('Universe Note', 1), ('Olivia x460', 1), ('i...</td>\n",
       "      <td>9145</td>\n",
       "      <td>75.54</td>\n",
       "      <td>37.823859</td>\n",
       "      <td>144.969892</td>\n",
       "      <td>25</td>\n",
       "      <td>6934.29</td>\n",
       "      <td>Spring</td>\n",
       "      <td>False</td>\n",
       "      <td>0.5867</td>\n",
       "      <td>four stars good</td>\n",
       "      <td>True</td>\n",
       "    </tr>\n",
       "  </tbody>\n",
       "</table>\n",
       "</div>"
      ],
      "text/plain": [
       "    order_id   customer_id        date nearest_warehouse  \\\n",
       "0  ORD182494  ID6197211592  2019-06-22          Thompson   \n",
       "1  ORD395518  ID0282825849  2019-12-29          Thompson   \n",
       "2  ORD494479  ID0579391891  2019-03-02         Nickolson   \n",
       "3  ORD019224  ID4544561904  2019-01-12         Nickolson   \n",
       "4  ORD104032  ID6231506320  2019-11-28         Nickolson   \n",
       "\n",
       "                                       shopping_cart  order_price  \\\n",
       "0  [('Lucent 330S', 1), ('Thunder line', 2), ('iS...        12200   \n",
       "1        [('Thunder line', 1), ('Universe Note', 2)]         9080   \n",
       "2               [('Thunder line', 1), ('pearTV', 2)]        10670   \n",
       "3  [('Universe Note', 1), ('Alcon 10', 2), ('Oliv...        24800   \n",
       "4  [('Universe Note', 1), ('Olivia x460', 1), ('i...         9145   \n",
       "\n",
       "   delivery_charges  customer_lat  customer_long  coupon_discount  \\\n",
       "0             79.89    -37.815105     144.932843               10   \n",
       "1             62.71    -37.802736     144.951118                0   \n",
       "2             65.87    -37.821302     144.957581               10   \n",
       "3             57.61    -37.811416     144.973073               15   \n",
       "4             75.54     37.823859     144.969892               25   \n",
       "\n",
       "   order_total  season  is_expedited_delivery  distance_to_nearest_warehouse  \\\n",
       "0     11059.89  Winter                   True                         1.2800   \n",
       "1      9142.71  Summer                  False                         1.1621   \n",
       "2      9668.87  Autumn                  False                         1.0949   \n",
       "3     21137.61  Summer                  False                         0.8571   \n",
       "4      6934.29  Spring                  False                         0.5867   \n",
       "\n",
       "                              latest_customer_review  is_happy_customer  \n",
       "0  perfect phone and trusted seller. phone itself...               True  \n",
       "1  it keeps dropping calls the wifi don't work th...              False  \n",
       "2            five stars this is a great cheap phone.               True  \n",
       "3        charger did not fit the charger didn't fit.              False  \n",
       "4                                    four stars good               True  "
      ]
     },
     "execution_count": 4,
     "metadata": {},
     "output_type": "execute_result"
    }
   ],
   "source": [
    "# display top 5 rows\n",
    "dirty_data.head()  "
   ]
  },
  {
   "cell_type": "markdown",
   "id": "20d3f58e",
   "metadata": {
    "papermill": {
     "duration": 0.038452,
     "end_time": "2021-09-30T10:46:32.778461",
     "exception": false,
     "start_time": "2021-09-30T10:46:32.740009",
     "status": "completed"
    },
    "tags": []
   },
   "source": [
    "# <p style=\"background-color:#4d91ff;font-family:newtimeroman;color:#FFF9ED;font-size:140%;text-align:center;border-radius:10px 10px;\">Displaying statistical info of dirty_data</p>"
   ]
  },
  {
   "cell_type": "code",
   "execution_count": 5,
   "id": "4985109a",
   "metadata": {
    "execution": {
     "iopub.execute_input": "2021-09-30T10:46:32.858973Z",
     "iopub.status.busy": "2021-09-30T10:46:32.858420Z",
     "iopub.status.idle": "2021-09-30T10:46:32.892225Z",
     "shell.execute_reply": "2021-09-30T10:46:32.891765Z",
     "shell.execute_reply.started": "2021-09-30T10:34:11.847867Z"
    },
    "papermill": {
     "duration": 0.075351,
     "end_time": "2021-09-30T10:46:32.892391",
     "exception": false,
     "start_time": "2021-09-30T10:46:32.817040",
     "status": "completed"
    },
    "tags": []
   },
   "outputs": [
    {
     "data": {
      "text/html": [
       "<div>\n",
       "<style scoped>\n",
       "    .dataframe tbody tr th:only-of-type {\n",
       "        vertical-align: middle;\n",
       "    }\n",
       "\n",
       "    .dataframe tbody tr th {\n",
       "        vertical-align: top;\n",
       "    }\n",
       "\n",
       "    .dataframe thead th {\n",
       "        text-align: right;\n",
       "    }\n",
       "</style>\n",
       "<table border=\"1\" class=\"dataframe\">\n",
       "  <thead>\n",
       "    <tr style=\"text-align: right;\">\n",
       "      <th></th>\n",
       "      <th>order_price</th>\n",
       "      <th>delivery_charges</th>\n",
       "      <th>customer_lat</th>\n",
       "      <th>customer_long</th>\n",
       "      <th>coupon_discount</th>\n",
       "      <th>order_total</th>\n",
       "      <th>distance_to_nearest_warehouse</th>\n",
       "    </tr>\n",
       "  </thead>\n",
       "  <tbody>\n",
       "    <tr>\n",
       "      <th>count</th>\n",
       "      <td>500.000000</td>\n",
       "      <td>500.000000</td>\n",
       "      <td>500.000000</td>\n",
       "      <td>500.000000</td>\n",
       "      <td>500.000000</td>\n",
       "      <td>5.000000e+02</td>\n",
       "      <td>500.000000</td>\n",
       "    </tr>\n",
       "    <tr>\n",
       "      <th>mean</th>\n",
       "      <td>25522.216000</td>\n",
       "      <td>76.658200</td>\n",
       "      <td>-35.835234</td>\n",
       "      <td>144.969494</td>\n",
       "      <td>10.890000</td>\n",
       "      <td>3.920967e+04</td>\n",
       "      <td>2.204224</td>\n",
       "    </tr>\n",
       "    <tr>\n",
       "      <th>std</th>\n",
       "      <td>86333.729169</td>\n",
       "      <td>14.481465</td>\n",
       "      <td>12.045393</td>\n",
       "      <td>0.022720</td>\n",
       "      <td>8.649134</td>\n",
       "      <td>2.741940e+05</td>\n",
       "      <td>8.812416</td>\n",
       "    </tr>\n",
       "    <tr>\n",
       "      <th>min</th>\n",
       "      <td>585.000000</td>\n",
       "      <td>46.350000</td>\n",
       "      <td>-37.827123</td>\n",
       "      <td>144.924967</td>\n",
       "      <td>0.000000</td>\n",
       "      <td>6.392900e+02</td>\n",
       "      <td>0.107800</td>\n",
       "    </tr>\n",
       "    <tr>\n",
       "      <th>25%</th>\n",
       "      <td>7050.000000</td>\n",
       "      <td>65.982500</td>\n",
       "      <td>-37.818222</td>\n",
       "      <td>144.953488</td>\n",
       "      <td>5.000000</td>\n",
       "      <td>6.454735e+03</td>\n",
       "      <td>0.751425</td>\n",
       "    </tr>\n",
       "    <tr>\n",
       "      <th>50%</th>\n",
       "      <td>12807.500000</td>\n",
       "      <td>76.310000</td>\n",
       "      <td>-37.812165</td>\n",
       "      <td>144.965357</td>\n",
       "      <td>10.000000</td>\n",
       "      <td>1.129396e+04</td>\n",
       "      <td>1.030100</td>\n",
       "    </tr>\n",
       "    <tr>\n",
       "      <th>75%</th>\n",
       "      <td>20360.000000</td>\n",
       "      <td>82.555000</td>\n",
       "      <td>-37.805364</td>\n",
       "      <td>144.983985</td>\n",
       "      <td>15.000000</td>\n",
       "      <td>1.811919e+04</td>\n",
       "      <td>1.408625</td>\n",
       "    </tr>\n",
       "    <tr>\n",
       "      <th>max</th>\n",
       "      <td>947691.000000</td>\n",
       "      <td>114.040000</td>\n",
       "      <td>37.826339</td>\n",
       "      <td>145.019837</td>\n",
       "      <td>25.000000</td>\n",
       "      <td>5.688270e+06</td>\n",
       "      <td>94.973400</td>\n",
       "    </tr>\n",
       "  </tbody>\n",
       "</table>\n",
       "</div>"
      ],
      "text/plain": [
       "         order_price  delivery_charges  customer_lat  customer_long  \\\n",
       "count     500.000000        500.000000    500.000000     500.000000   \n",
       "mean    25522.216000         76.658200    -35.835234     144.969494   \n",
       "std     86333.729169         14.481465     12.045393       0.022720   \n",
       "min       585.000000         46.350000    -37.827123     144.924967   \n",
       "25%      7050.000000         65.982500    -37.818222     144.953488   \n",
       "50%     12807.500000         76.310000    -37.812165     144.965357   \n",
       "75%     20360.000000         82.555000    -37.805364     144.983985   \n",
       "max    947691.000000        114.040000     37.826339     145.019837   \n",
       "\n",
       "       coupon_discount   order_total  distance_to_nearest_warehouse  \n",
       "count       500.000000  5.000000e+02                     500.000000  \n",
       "mean         10.890000  3.920967e+04                       2.204224  \n",
       "std           8.649134  2.741940e+05                       8.812416  \n",
       "min           0.000000  6.392900e+02                       0.107800  \n",
       "25%           5.000000  6.454735e+03                       0.751425  \n",
       "50%          10.000000  1.129396e+04                       1.030100  \n",
       "75%          15.000000  1.811919e+04                       1.408625  \n",
       "max          25.000000  5.688270e+06                      94.973400  "
      ]
     },
     "execution_count": 5,
     "metadata": {},
     "output_type": "execute_result"
    }
   ],
   "source": [
    "dirty_data.describe() "
   ]
  },
  {
   "cell_type": "code",
   "execution_count": 6,
   "id": "e84243e1",
   "metadata": {
    "execution": {
     "iopub.execute_input": "2021-09-30T10:46:32.974900Z",
     "iopub.status.busy": "2021-09-30T10:46:32.974280Z",
     "iopub.status.idle": "2021-09-30T10:46:32.976661Z",
     "shell.execute_reply": "2021-09-30T10:46:32.977077Z",
     "shell.execute_reply.started": "2021-09-30T10:34:26.853380Z"
    },
    "papermill": {
     "duration": 0.045857,
     "end_time": "2021-09-30T10:46:32.977249",
     "exception": false,
     "start_time": "2021-09-30T10:46:32.931392",
     "status": "completed"
    },
    "tags": []
   },
   "outputs": [
    {
     "name": "stdout",
     "output_type": "stream",
     "text": [
      "Shape of dirty_data is: (500, 16)\n"
     ]
    }
   ],
   "source": [
    "print(f'Shape of dirty_data is: {dirty_data.shape}')"
   ]
  },
  {
   "cell_type": "markdown",
   "id": "1f06fcb2",
   "metadata": {
    "papermill": {
     "duration": 0.040151,
     "end_time": "2021-09-30T10:46:33.056261",
     "exception": false,
     "start_time": "2021-09-30T10:46:33.016110",
     "status": "completed"
    },
    "tags": []
   },
   "source": [
    "# <p style=\"background-color:#4d91ff;font-family:newtimeroman;color:#FFF9ED;font-size:140%;text-align:center;border-radius:10px 10px;\">Whether any columns contains null value or not</p>"
   ]
  },
  {
   "cell_type": "code",
   "execution_count": 7,
   "id": "9a542209",
   "metadata": {
    "execution": {
     "iopub.execute_input": "2021-09-30T10:46:33.139741Z",
     "iopub.status.busy": "2021-09-30T10:46:33.139096Z",
     "iopub.status.idle": "2021-09-30T10:46:33.146390Z",
     "shell.execute_reply": "2021-09-30T10:46:33.145893Z",
     "shell.execute_reply.started": "2021-09-30T10:34:33.745639Z"
    },
    "papermill": {
     "duration": 0.050226,
     "end_time": "2021-09-30T10:46:33.146527",
     "exception": false,
     "start_time": "2021-09-30T10:46:33.096301",
     "status": "completed"
    },
    "tags": []
   },
   "outputs": [
    {
     "name": "stdout",
     "output_type": "stream",
     "text": [
      "order_id                         0\n",
      "customer_id                      0\n",
      "date                             0\n",
      "nearest_warehouse                0\n",
      "shopping_cart                    0\n",
      "order_price                      0\n",
      "delivery_charges                 0\n",
      "customer_lat                     0\n",
      "customer_long                    0\n",
      "coupon_discount                  0\n",
      "order_total                      0\n",
      "season                           0\n",
      "is_expedited_delivery            0\n",
      "distance_to_nearest_warehouse    0\n",
      "latest_customer_review           0\n",
      "is_happy_customer                0\n",
      "dtype: int64\n"
     ]
    }
   ],
   "source": [
    "print(dirty_data.isnull().sum())"
   ]
  },
  {
   "cell_type": "markdown",
   "id": "d73f856b",
   "metadata": {
    "papermill": {
     "duration": 0.049984,
     "end_time": "2021-09-30T10:46:33.241196",
     "exception": false,
     "start_time": "2021-09-30T10:46:33.191212",
     "status": "completed"
    },
    "tags": []
   },
   "source": [
    "**So no column contain null value**"
   ]
  },
  {
   "cell_type": "markdown",
   "id": "dbdf18b3",
   "metadata": {
    "papermill": {
     "duration": 0.038259,
     "end_time": "2021-09-30T10:46:33.328947",
     "exception": false,
     "start_time": "2021-09-30T10:46:33.290688",
     "status": "completed"
    },
    "tags": []
   },
   "source": [
    "# <p style=\"background-color:#4d91ff;font-family:newtimeroman;color:#FFF9ED;font-size:140%;text-align:center;border-radius:10px 10px;\">Analyzing datatype of each column</p>"
   ]
  },
  {
   "cell_type": "code",
   "execution_count": 8,
   "id": "19482862",
   "metadata": {
    "execution": {
     "iopub.execute_input": "2021-09-30T10:46:33.410130Z",
     "iopub.status.busy": "2021-09-30T10:46:33.409596Z",
     "iopub.status.idle": "2021-09-30T10:46:33.415806Z",
     "shell.execute_reply": "2021-09-30T10:46:33.416180Z",
     "shell.execute_reply.started": "2021-07-20T12:04:08.792931Z"
    },
    "papermill": {
     "duration": 0.048126,
     "end_time": "2021-09-30T10:46:33.416350",
     "exception": false,
     "start_time": "2021-09-30T10:46:33.368224",
     "status": "completed"
    },
    "tags": []
   },
   "outputs": [
    {
     "name": "stdout",
     "output_type": "stream",
     "text": [
      "order_id                          object\n",
      "customer_id                       object\n",
      "date                              object\n",
      "nearest_warehouse                 object\n",
      "shopping_cart                     object\n",
      "order_price                        int64\n",
      "delivery_charges                 float64\n",
      "customer_lat                     float64\n",
      "customer_long                    float64\n",
      "coupon_discount                    int64\n",
      "order_total                      float64\n",
      "season                            object\n",
      "is_expedited_delivery               bool\n",
      "distance_to_nearest_warehouse    float64\n",
      "latest_customer_review            object\n",
      "is_happy_customer                   bool\n",
      "dtype: object\n"
     ]
    }
   ],
   "source": [
    "print(dirty_data.dtypes)"
   ]
  },
  {
   "cell_type": "markdown",
   "id": "bc2043c5",
   "metadata": {
    "papermill": {
     "duration": 0.038985,
     "end_time": "2021-09-30T10:46:33.494757",
     "exception": false,
     "start_time": "2021-09-30T10:46:33.455772",
     "status": "completed"
    },
    "tags": []
   },
   "source": [
    "### **Data type of date column is object instead of datetime, So fixing this problem**"
   ]
  },
  {
   "cell_type": "code",
   "execution_count": 9,
   "id": "a23b2234",
   "metadata": {
    "execution": {
     "iopub.execute_input": "2021-09-30T10:46:33.576835Z",
     "iopub.status.busy": "2021-09-30T10:46:33.576207Z",
     "iopub.status.idle": "2021-09-30T10:46:33.583079Z",
     "shell.execute_reply": "2021-09-30T10:46:33.583565Z",
     "shell.execute_reply.started": "2021-07-20T12:04:08.804812Z"
    },
    "papermill": {
     "duration": 0.049543,
     "end_time": "2021-09-30T10:46:33.583729",
     "exception": false,
     "start_time": "2021-09-30T10:46:33.534186",
     "status": "completed"
    },
    "tags": []
   },
   "outputs": [],
   "source": [
    "dirty_data.date = pd.to_datetime(dirty_data['date'])"
   ]
  },
  {
   "cell_type": "code",
   "execution_count": 10,
   "id": "753814e4",
   "metadata": {
    "execution": {
     "iopub.execute_input": "2021-09-30T10:46:33.665156Z",
     "iopub.status.busy": "2021-09-30T10:46:33.664621Z",
     "iopub.status.idle": "2021-09-30T10:46:33.670242Z",
     "shell.execute_reply": "2021-09-30T10:46:33.669778Z",
     "shell.execute_reply.started": "2021-07-20T12:04:08.817741Z"
    },
    "papermill": {
     "duration": 0.047237,
     "end_time": "2021-09-30T10:46:33.670396",
     "exception": false,
     "start_time": "2021-09-30T10:46:33.623159",
     "status": "completed"
    },
    "tags": []
   },
   "outputs": [
    {
     "name": "stdout",
     "output_type": "stream",
     "text": [
      "datetime64[ns]\n"
     ]
    }
   ],
   "source": [
    "print(dirty_data.date.dtypes)      "
   ]
  },
  {
   "cell_type": "code",
   "execution_count": 11,
   "id": "89116c27",
   "metadata": {
    "execution": {
     "iopub.execute_input": "2021-09-30T10:46:33.753680Z",
     "iopub.status.busy": "2021-09-30T10:46:33.753058Z",
     "iopub.status.idle": "2021-09-30T10:46:33.759278Z",
     "shell.execute_reply": "2021-09-30T10:46:33.759946Z",
     "shell.execute_reply.started": "2021-07-20T12:04:08.831341Z"
    },
    "papermill": {
     "duration": 0.049031,
     "end_time": "2021-09-30T10:46:33.760124",
     "exception": false,
     "start_time": "2021-09-30T10:46:33.711093",
     "status": "completed"
    },
    "tags": []
   },
   "outputs": [
    {
     "name": "stdout",
     "output_type": "stream",
     "text": [
      "order_id                                 object\n",
      "customer_id                              object\n",
      "date                             datetime64[ns]\n",
      "nearest_warehouse                        object\n",
      "shopping_cart                            object\n",
      "order_price                               int64\n",
      "delivery_charges                        float64\n",
      "customer_lat                            float64\n",
      "customer_long                           float64\n",
      "coupon_discount                           int64\n",
      "order_total                             float64\n",
      "season                                   object\n",
      "is_expedited_delivery                      bool\n",
      "distance_to_nearest_warehouse           float64\n",
      "latest_customer_review                   object\n",
      "is_happy_customer                          bool\n",
      "dtype: object\n"
     ]
    }
   ],
   "source": [
    "print(dirty_data.dtypes)  # Now data in date column is in datetime64 form"
   ]
  },
  {
   "cell_type": "markdown",
   "id": "687a82ed",
   "metadata": {
    "papermill": {
     "duration": 0.039665,
     "end_time": "2021-09-30T10:46:33.840063",
     "exception": false,
     "start_time": "2021-09-30T10:46:33.800398",
     "status": "completed"
    },
    "tags": []
   },
   "source": [
    "# <p style=\"background-color:#4d91ff;font-family:newtimeroman;color:#FFF9ED;font-size:140%;text-align:center;border-radius:10px 10px;\">Analyzing order_id</p>"
   ]
  },
  {
   "cell_type": "markdown",
   "id": "499d70bc",
   "metadata": {
    "papermill": {
     "duration": 0.039925,
     "end_time": "2021-09-30T10:46:33.920379",
     "exception": false,
     "start_time": "2021-09-30T10:46:33.880454",
     "status": "completed"
    },
    "tags": []
   },
   "source": [
    "### **Checking whether order_id is unique or not**"
   ]
  },
  {
   "cell_type": "code",
   "execution_count": 12,
   "id": "0a6b97f2",
   "metadata": {
    "execution": {
     "iopub.execute_input": "2021-09-30T10:46:34.003748Z",
     "iopub.status.busy": "2021-09-30T10:46:34.002782Z",
     "iopub.status.idle": "2021-09-30T10:46:34.011062Z",
     "shell.execute_reply": "2021-09-30T10:46:34.010545Z",
     "shell.execute_reply.started": "2021-07-20T12:04:08.845402Z"
    },
    "papermill": {
     "duration": 0.05077,
     "end_time": "2021-09-30T10:46:34.011201",
     "exception": false,
     "start_time": "2021-09-30T10:46:33.960431",
     "status": "completed"
    },
    "tags": []
   },
   "outputs": [
    {
     "name": "stdout",
     "output_type": "stream",
     "text": [
      "Data in order_id is unique\n"
     ]
    }
   ],
   "source": [
    "if dirty_data.order_id.is_unique:    \n",
    "    print(\"Data in order_id is unique\")      # execute when 'if' block will true\n",
    "else:\n",
    "    print(\"Data in order_id is not unique\")  # execute when 'else' block will true"
   ]
  },
  {
   "cell_type": "markdown",
   "id": "7c270311",
   "metadata": {
    "papermill": {
     "duration": 0.041499,
     "end_time": "2021-09-30T10:46:34.094127",
     "exception": false,
     "start_time": "2021-09-30T10:46:34.052628",
     "status": "completed"
    },
    "tags": []
   },
   "source": [
    "# <p style=\"background-color:#4d91ff;font-family:newtimeroman;color:#FFF9ED;font-size:140%;text-align:center;border-radius:10px 10px;\">Analyzing nearest_warehouse</p>"
   ]
  },
  {
   "cell_type": "markdown",
   "id": "b4e7f0cc",
   "metadata": {
    "papermill": {
     "duration": 0.040628,
     "end_time": "2021-09-30T10:46:34.175325",
     "exception": false,
     "start_time": "2021-09-30T10:46:34.134697",
     "status": "completed"
    },
    "tags": []
   },
   "source": [
    "### **Unique item in nearest_warehouse**"
   ]
  },
  {
   "cell_type": "code",
   "execution_count": 13,
   "id": "48f96ade",
   "metadata": {
    "execution": {
     "iopub.execute_input": "2021-09-30T10:46:34.263624Z",
     "iopub.status.busy": "2021-09-30T10:46:34.262626Z",
     "iopub.status.idle": "2021-09-30T10:46:34.267062Z",
     "shell.execute_reply": "2021-09-30T10:46:34.266456Z",
     "shell.execute_reply.started": "2021-07-20T12:04:08.856406Z"
    },
    "papermill": {
     "duration": 0.051065,
     "end_time": "2021-09-30T10:46:34.267209",
     "exception": false,
     "start_time": "2021-09-30T10:46:34.216144",
     "status": "completed"
    },
    "tags": []
   },
   "outputs": [
    {
     "data": {
      "text/plain": [
       "array(['Thompson', 'Nickolson', 'Bakers', 'nickolson', 'thompson'],\n",
       "      dtype=object)"
      ]
     },
     "execution_count": 13,
     "metadata": {},
     "output_type": "execute_result"
    }
   ],
   "source": [
    "dirty_data['nearest_warehouse'].unique()"
   ]
  },
  {
   "cell_type": "markdown",
   "id": "6c613b5b",
   "metadata": {
    "papermill": {
     "duration": 0.04021,
     "end_time": "2021-09-30T10:46:34.348333",
     "exception": false,
     "start_time": "2021-09-30T10:46:34.308123",
     "status": "completed"
    },
    "tags": []
   },
   "source": [
    "### **Thompson and thompson are same but here they both are different so make it same**\n",
    "\n",
    "### **Similarly Nickolson and nickolson are same**"
   ]
  },
  {
   "cell_type": "markdown",
   "id": "f8c35938",
   "metadata": {
    "papermill": {
     "duration": 0.040494,
     "end_time": "2021-09-30T10:46:34.429478",
     "exception": false,
     "start_time": "2021-09-30T10:46:34.388984",
     "status": "completed"
    },
    "tags": []
   },
   "source": [
    "## **To solve this problem, convert data in nearest_warehouse in title case**"
   ]
  },
  {
   "cell_type": "code",
   "execution_count": 14,
   "id": "9ce6b351",
   "metadata": {
    "execution": {
     "iopub.execute_input": "2021-09-30T10:46:34.516310Z",
     "iopub.status.busy": "2021-09-30T10:46:34.515425Z",
     "iopub.status.idle": "2021-09-30T10:46:34.518603Z",
     "shell.execute_reply": "2021-09-30T10:46:34.518140Z",
     "shell.execute_reply.started": "2021-07-20T12:04:08.868529Z"
    },
    "papermill": {
     "duration": 0.048722,
     "end_time": "2021-09-30T10:46:34.518751",
     "exception": false,
     "start_time": "2021-09-30T10:46:34.470029",
     "status": "completed"
    },
    "tags": []
   },
   "outputs": [],
   "source": [
    "dirty_data.nearest_warehouse = dirty_data.nearest_warehouse.str.title()"
   ]
  },
  {
   "cell_type": "code",
   "execution_count": 15,
   "id": "e1b2c052",
   "metadata": {
    "execution": {
     "iopub.execute_input": "2021-09-30T10:46:34.605512Z",
     "iopub.status.busy": "2021-09-30T10:46:34.604867Z",
     "iopub.status.idle": "2021-09-30T10:46:34.608458Z",
     "shell.execute_reply": "2021-09-30T10:46:34.608849Z",
     "shell.execute_reply.started": "2021-07-20T12:04:08.878347Z"
    },
    "papermill": {
     "duration": 0.049228,
     "end_time": "2021-09-30T10:46:34.609021",
     "exception": false,
     "start_time": "2021-09-30T10:46:34.559793",
     "status": "completed"
    },
    "tags": []
   },
   "outputs": [
    {
     "data": {
      "text/plain": [
       "array(['Thompson', 'Nickolson', 'Bakers'], dtype=object)"
      ]
     },
     "execution_count": 15,
     "metadata": {},
     "output_type": "execute_result"
    }
   ],
   "source": [
    "dirty_data['nearest_warehouse'].unique()"
   ]
  },
  {
   "cell_type": "markdown",
   "id": "abd52c9f",
   "metadata": {
    "papermill": {
     "duration": 0.04086,
     "end_time": "2021-09-30T10:46:34.691390",
     "exception": false,
     "start_time": "2021-09-30T10:46:34.650530",
     "status": "completed"
    },
    "tags": []
   },
   "source": [
    "**Now this problem is solved**"
   ]
  },
  {
   "cell_type": "markdown",
   "id": "5f23c91e",
   "metadata": {
    "papermill": {
     "duration": 0.041069,
     "end_time": "2021-09-30T10:46:34.773298",
     "exception": false,
     "start_time": "2021-09-30T10:46:34.732229",
     "status": "completed"
    },
    "tags": []
   },
   "source": [
    "# <p style=\"background-color:#4d91ff;font-family:newtimeroman;color:#FFF9ED;font-size:140%;text-align:center;border-radius:10px 10px;\">Checking quantities of near_warehouse</p>"
   ]
  },
  {
   "cell_type": "code",
   "execution_count": 16,
   "id": "a9d3c963",
   "metadata": {
    "execution": {
     "iopub.execute_input": "2021-09-30T10:46:34.864472Z",
     "iopub.status.busy": "2021-09-30T10:46:34.863833Z",
     "iopub.status.idle": "2021-09-30T10:46:34.866499Z",
     "shell.execute_reply": "2021-09-30T10:46:34.866963Z",
     "shell.execute_reply.started": "2021-07-20T12:04:08.889173Z"
    },
    "papermill": {
     "duration": 0.05257,
     "end_time": "2021-09-30T10:46:34.867124",
     "exception": false,
     "start_time": "2021-09-30T10:46:34.814554",
     "status": "completed"
    },
    "tags": []
   },
   "outputs": [
    {
     "name": "stdout",
     "output_type": "stream",
     "text": [
      "Thompson     197\n",
      "Nickolson    184\n",
      "Bakers       119\n",
      "Name: nearest_warehouse, dtype: int64\n"
     ]
    }
   ],
   "source": [
    "warehouses = dirty_data['nearest_warehouse'].value_counts()\n",
    "print(warehouses)"
   ]
  },
  {
   "cell_type": "markdown",
   "id": "ca082f66",
   "metadata": {
    "papermill": {
     "duration": 0.040751,
     "end_time": "2021-09-30T10:46:34.949942",
     "exception": false,
     "start_time": "2021-09-30T10:46:34.909191",
     "status": "completed"
    },
    "tags": []
   },
   "source": [
    "# <p style=\"background-color:#4d91ff;font-family:newtimeroman;color:#FFF9ED;font-size:130%;text-align:center;border-radius:10px 10px;\">Visualizing data using bar chart</p>"
   ]
  },
  {
   "cell_type": "code",
   "execution_count": 17,
   "id": "c59cca40",
   "metadata": {
    "execution": {
     "iopub.execute_input": "2021-09-30T10:46:35.037485Z",
     "iopub.status.busy": "2021-09-30T10:46:35.036790Z",
     "iopub.status.idle": "2021-09-30T10:46:35.227391Z",
     "shell.execute_reply": "2021-09-30T10:46:35.227858Z",
     "shell.execute_reply.started": "2021-07-20T12:04:08.900844Z"
    },
    "papermill": {
     "duration": 0.236953,
     "end_time": "2021-09-30T10:46:35.228035",
     "exception": false,
     "start_time": "2021-09-30T10:46:34.991082",
     "status": "completed"
    },
    "tags": []
   },
   "outputs": [
    {
     "data": {
      "image/png": "[encoded data removed]",
      "text/plain": [
       "<Figure size 720x360 with 1 Axes>"
      ]
     },
     "metadata": {
      "needs_background": "light"
     },
     "output_type": "display_data"
    }
   ],
   "source": [
    "warehouses.plot(kind='bar', rot=1, color=['r','g','b'], figsize=(10,5))\n",
    "plt.title(\"Quantity of the warehouses\\n\", size=15)\n",
    "plt.ylabel(\"Counts\");"
   ]
  },
  {
   "cell_type": "markdown",
   "id": "09502569",
   "metadata": {
    "papermill": {
     "duration": 0.042387,
     "end_time": "2021-09-30T10:46:35.313557",
     "exception": false,
     "start_time": "2021-09-30T10:46:35.271170",
     "status": "completed"
    },
    "tags": []
   },
   "source": [
    "# <p style=\"background-color:#4d91ff;font-family:newtimeroman;color:#FFF9ED;font-size:130%;text-align:center;border-radius:10px 10px;\">Visualizing data using pie chart</p>"
   ]
  },
  {
   "cell_type": "code",
   "execution_count": 18,
   "id": "8553bbe5",
   "metadata": {
    "execution": {
     "iopub.execute_input": "2021-09-30T10:46:35.423289Z",
     "iopub.status.busy": "2021-09-30T10:46:35.422622Z",
     "iopub.status.idle": "2021-09-30T10:46:35.492524Z",
     "shell.execute_reply": "2021-09-30T10:46:35.492033Z",
     "shell.execute_reply.started": "2021-07-20T12:04:09.134081Z"
    },
    "papermill": {
     "duration": 0.136153,
     "end_time": "2021-09-30T10:46:35.492668",
     "exception": false,
     "start_time": "2021-09-30T10:46:35.356515",
     "status": "completed"
    },
    "tags": []
   },
   "outputs": [
    {
     "data": {
      "image/png": "[encoded data removed]",
      "text/plain": [
       "<Figure size 432x288 with 1 Axes>"
      ]
     },
     "metadata": {},
     "output_type": "display_data"
    }
   ],
   "source": [
    "plt.pie(warehouses,\n",
    "        labels=['Thomson',\"Nickolson\",'Bakers'],\n",
    "        autopct=\"%0.1f%%\",\n",
    "        explode=[0,.01,0.1],\n",
    "        startangle=60,radius=1)\n",
    "plt.title(\"Quantity of warehouses\", size=15)\n",
    "plt.show()"
   ]
  },
  {
   "cell_type": "markdown",
   "id": "60e4ec34",
   "metadata": {
    "papermill": {
     "duration": 0.042157,
     "end_time": "2021-09-30T10:46:35.577589",
     "exception": false,
     "start_time": "2021-09-30T10:46:35.535432",
     "status": "completed"
    },
    "tags": []
   },
   "source": [
    "### **It seems that Thomson is nearest warehouse accessible to mostly customer**"
   ]
  },
  {
   "cell_type": "markdown",
   "id": "8c303fd2",
   "metadata": {
    "papermill": {
     "duration": 0.042187,
     "end_time": "2021-09-30T10:46:35.662390",
     "exception": false,
     "start_time": "2021-09-30T10:46:35.620203",
     "status": "completed"
    },
    "tags": []
   },
   "source": [
    "### **Analyzing order_price and order_total**\n",
    "- order_price: Price before any discounts and delivery charges\n",
    "- order_total: Price after all discounts and/or delivery charges are applied"
   ]
  },
  {
   "cell_type": "markdown",
   "id": "29fa29b0",
   "metadata": {
    "papermill": {
     "duration": 0.041765,
     "end_time": "2021-09-30T10:46:35.747160",
     "exception": false,
     "start_time": "2021-09-30T10:46:35.705395",
     "status": "completed"
    },
    "tags": []
   },
   "source": [
    "# <p style=\"background-color:#4d91ff;font-family:newtimeroman;color:#FFF9ED;font-size:140%;text-align:center;border-radius:10px 10px;\">Displaying Record whose order price is maximum</p>"
   ]
  },
  {
   "cell_type": "code",
   "execution_count": 19,
   "id": "bccaf64e",
   "metadata": {
    "execution": {
     "iopub.execute_input": "2021-09-30T10:46:35.835214Z",
     "iopub.status.busy": "2021-09-30T10:46:35.834641Z",
     "iopub.status.idle": "2021-09-30T10:46:35.869183Z",
     "shell.execute_reply": "2021-09-30T10:46:35.868717Z",
     "shell.execute_reply.started": "2021-07-20T12:04:09.24253Z"
    },
    "papermill": {
     "duration": 0.079645,
     "end_time": "2021-09-30T10:46:35.869324",
     "exception": false,
     "start_time": "2021-09-30T10:46:35.789679",
     "status": "completed"
    },
    "tags": []
   },
   "outputs": [
    {
     "data": {
      "text/html": [
       "<div>\n",
       "<style scoped>\n",
       "    .dataframe tbody tr th:only-of-type {\n",
       "        vertical-align: middle;\n",
       "    }\n",
       "\n",
       "    .dataframe tbody tr th {\n",
       "        vertical-align: top;\n",
       "    }\n",
       "\n",
       "    .dataframe thead th {\n",
       "        text-align: right;\n",
       "    }\n",
       "</style>\n",
       "<table border=\"1\" class=\"dataframe\">\n",
       "  <thead>\n",
       "    <tr style=\"text-align: right;\">\n",
       "      <th></th>\n",
       "      <th>order_id</th>\n",
       "      <th>customer_id</th>\n",
       "      <th>date</th>\n",
       "      <th>nearest_warehouse</th>\n",
       "      <th>shopping_cart</th>\n",
       "      <th>order_price</th>\n",
       "      <th>delivery_charges</th>\n",
       "      <th>customer_lat</th>\n",
       "      <th>customer_long</th>\n",
       "      <th>coupon_discount</th>\n",
       "      <th>order_total</th>\n",
       "      <th>season</th>\n",
       "      <th>is_expedited_delivery</th>\n",
       "      <th>distance_to_nearest_warehouse</th>\n",
       "      <th>latest_customer_review</th>\n",
       "      <th>is_happy_customer</th>\n",
       "    </tr>\n",
       "  </thead>\n",
       "  <tbody>\n",
       "    <tr>\n",
       "      <th>335</th>\n",
       "      <td>ORD116440</td>\n",
       "      <td>ID0332546017</td>\n",
       "      <td>2019-12-31</td>\n",
       "      <td>Thompson</td>\n",
       "      <td>[('Lucent 330S', 1), ('iAssist Line', 1), ('Ca...</td>\n",
       "      <td>947691</td>\n",
       "      <td>90.82</td>\n",
       "      <td>-37.809368</td>\n",
       "      <td>144.949342</td>\n",
       "      <td>10</td>\n",
       "      <td>9266.32</td>\n",
       "      <td>Summer</td>\n",
       "      <td>True</td>\n",
       "      <td>0.4187</td>\n",
       "      <td>work fine great product and no issues.</td>\n",
       "      <td>True</td>\n",
       "    </tr>\n",
       "  </tbody>\n",
       "</table>\n",
       "</div>"
      ],
      "text/plain": [
       "      order_id   customer_id       date nearest_warehouse  \\\n",
       "335  ORD116440  ID0332546017 2019-12-31          Thompson   \n",
       "\n",
       "                                         shopping_cart  order_price  \\\n",
       "335  [('Lucent 330S', 1), ('iAssist Line', 1), ('Ca...       947691   \n",
       "\n",
       "     delivery_charges  customer_lat  customer_long  coupon_discount  \\\n",
       "335             90.82    -37.809368     144.949342               10   \n",
       "\n",
       "     order_total  season  is_expedited_delivery  \\\n",
       "335      9266.32  Summer                   True   \n",
       "\n",
       "     distance_to_nearest_warehouse                  latest_customer_review  \\\n",
       "335                         0.4187  work fine great product and no issues.   \n",
       "\n",
       "     is_happy_customer  \n",
       "335               True  "
      ]
     },
     "execution_count": 19,
     "metadata": {},
     "output_type": "execute_result"
    }
   ],
   "source": [
    "dirty_data[dirty_data.order_price == dirty_data.order_price.max()]"
   ]
  },
  {
   "cell_type": "markdown",
   "id": "a8a002b6",
   "metadata": {
    "papermill": {
     "duration": 0.042583,
     "end_time": "2021-09-30T10:46:35.955267",
     "exception": false,
     "start_time": "2021-09-30T10:46:35.912684",
     "status": "completed"
    },
    "tags": []
   },
   "source": [
    "# <p style=\"background-color:#4d91ff;font-family:newtimeroman;color:#FFF9ED;font-size:140%;text-align:center;border-radius:10px 10px;\">Displaying Record whose order price is minimum</p>"
   ]
  },
  {
   "cell_type": "code",
   "execution_count": 20,
   "id": "58e17797",
   "metadata": {
    "execution": {
     "iopub.execute_input": "2021-09-30T10:46:36.059539Z",
     "iopub.status.busy": "2021-09-30T10:46:36.058830Z",
     "iopub.status.idle": "2021-09-30T10:46:36.061550Z",
     "shell.execute_reply": "2021-09-30T10:46:36.062020Z",
     "shell.execute_reply.started": "2021-07-20T12:04:09.283625Z"
    },
    "papermill": {
     "duration": 0.064029,
     "end_time": "2021-09-30T10:46:36.062186",
     "exception": false,
     "start_time": "2021-09-30T10:46:35.998157",
     "status": "completed"
    },
    "tags": []
   },
   "outputs": [
    {
     "data": {
      "text/html": [
       "<div>\n",
       "<style scoped>\n",
       "    .dataframe tbody tr th:only-of-type {\n",
       "        vertical-align: middle;\n",
       "    }\n",
       "\n",
       "    .dataframe tbody tr th {\n",
       "        vertical-align: top;\n",
       "    }\n",
       "\n",
       "    .dataframe thead th {\n",
       "        text-align: right;\n",
       "    }\n",
       "</style>\n",
       "<table border=\"1\" class=\"dataframe\">\n",
       "  <thead>\n",
       "    <tr style=\"text-align: right;\">\n",
       "      <th></th>\n",
       "      <th>order_id</th>\n",
       "      <th>customer_id</th>\n",
       "      <th>date</th>\n",
       "      <th>nearest_warehouse</th>\n",
       "      <th>shopping_cart</th>\n",
       "      <th>order_price</th>\n",
       "      <th>delivery_charges</th>\n",
       "      <th>customer_lat</th>\n",
       "      <th>customer_long</th>\n",
       "      <th>coupon_discount</th>\n",
       "      <th>order_total</th>\n",
       "      <th>season</th>\n",
       "      <th>is_expedited_delivery</th>\n",
       "      <th>distance_to_nearest_warehouse</th>\n",
       "      <th>latest_customer_review</th>\n",
       "      <th>is_happy_customer</th>\n",
       "    </tr>\n",
       "  </thead>\n",
       "  <tbody>\n",
       "    <tr>\n",
       "      <th>308</th>\n",
       "      <td>ORD165713</td>\n",
       "      <td>ID2384157684</td>\n",
       "      <td>2019-11-23</td>\n",
       "      <td>Bakers</td>\n",
       "      <td>[('iStream', 2), ('Candle Inferno', 1)]</td>\n",
       "      <td>585</td>\n",
       "      <td>91.79</td>\n",
       "      <td>-37.800798</td>\n",
       "      <td>145.005428</td>\n",
       "      <td>25</td>\n",
       "      <td>639.29</td>\n",
       "      <td>Spring</td>\n",
       "      <td>True</td>\n",
       "      <td>1.361</td>\n",
       "      <td>junk had this thing for less than 2 months. ha...</td>\n",
       "      <td>False</td>\n",
       "    </tr>\n",
       "  </tbody>\n",
       "</table>\n",
       "</div>"
      ],
      "text/plain": [
       "      order_id   customer_id       date nearest_warehouse  \\\n",
       "308  ORD165713  ID2384157684 2019-11-23            Bakers   \n",
       "\n",
       "                               shopping_cart  order_price  delivery_charges  \\\n",
       "308  [('iStream', 2), ('Candle Inferno', 1)]          585             91.79   \n",
       "\n",
       "     customer_lat  customer_long  coupon_discount  order_total  season  \\\n",
       "308    -37.800798     145.005428               25       639.29  Spring   \n",
       "\n",
       "     is_expedited_delivery  distance_to_nearest_warehouse  \\\n",
       "308                   True                          1.361   \n",
       "\n",
       "                                latest_customer_review  is_happy_customer  \n",
       "308  junk had this thing for less than 2 months. ha...              False  "
      ]
     },
     "execution_count": 20,
     "metadata": {},
     "output_type": "execute_result"
    }
   ],
   "source": [
    "dirty_data[dirty_data.order_price == dirty_data.order_price.min()]"
   ]
  },
  {
   "cell_type": "markdown",
   "id": "59053f19",
   "metadata": {
    "papermill": {
     "duration": 0.043168,
     "end_time": "2021-09-30T10:46:36.149055",
     "exception": false,
     "start_time": "2021-09-30T10:46:36.105887",
     "status": "completed"
    },
    "tags": []
   },
   "source": [
    "## **Now checking whether the order_total(after all discount and delivery charges are applied) is correct or there is some problem in it**"
   ]
  },
  {
   "cell_type": "code",
   "execution_count": 21,
   "id": "9cda2da2",
   "metadata": {
    "execution": {
     "iopub.execute_input": "2021-09-30T10:46:36.240445Z",
     "iopub.status.busy": "2021-09-30T10:46:36.239761Z",
     "iopub.status.idle": "2021-09-30T10:46:36.252176Z",
     "shell.execute_reply": "2021-09-30T10:46:36.252675Z",
     "shell.execute_reply.started": "2021-07-20T12:04:09.310222Z"
    },
    "papermill": {
     "duration": 0.059633,
     "end_time": "2021-09-30T10:46:36.252846",
     "exception": false,
     "start_time": "2021-09-30T10:46:36.193213",
     "status": "completed"
    },
    "tags": []
   },
   "outputs": [
    {
     "data": {
      "text/html": [
       "<div>\n",
       "<style scoped>\n",
       "    .dataframe tbody tr th:only-of-type {\n",
       "        vertical-align: middle;\n",
       "    }\n",
       "\n",
       "    .dataframe tbody tr th {\n",
       "        vertical-align: top;\n",
       "    }\n",
       "\n",
       "    .dataframe thead th {\n",
       "        text-align: right;\n",
       "    }\n",
       "</style>\n",
       "<table border=\"1\" class=\"dataframe\">\n",
       "  <thead>\n",
       "    <tr style=\"text-align: right;\">\n",
       "      <th></th>\n",
       "      <th>order_price</th>\n",
       "      <th>delivery_charges</th>\n",
       "      <th>coupon_discount</th>\n",
       "      <th>order_total</th>\n",
       "    </tr>\n",
       "  </thead>\n",
       "  <tbody>\n",
       "    <tr>\n",
       "      <th>0</th>\n",
       "      <td>12200</td>\n",
       "      <td>79.89</td>\n",
       "      <td>10</td>\n",
       "      <td>11059.89</td>\n",
       "    </tr>\n",
       "    <tr>\n",
       "      <th>1</th>\n",
       "      <td>9080</td>\n",
       "      <td>62.71</td>\n",
       "      <td>0</td>\n",
       "      <td>9142.71</td>\n",
       "    </tr>\n",
       "    <tr>\n",
       "      <th>2</th>\n",
       "      <td>10670</td>\n",
       "      <td>65.87</td>\n",
       "      <td>10</td>\n",
       "      <td>9668.87</td>\n",
       "    </tr>\n",
       "    <tr>\n",
       "      <th>3</th>\n",
       "      <td>24800</td>\n",
       "      <td>57.61</td>\n",
       "      <td>15</td>\n",
       "      <td>21137.61</td>\n",
       "    </tr>\n",
       "    <tr>\n",
       "      <th>4</th>\n",
       "      <td>9145</td>\n",
       "      <td>75.54</td>\n",
       "      <td>25</td>\n",
       "      <td>6934.29</td>\n",
       "    </tr>\n",
       "    <tr>\n",
       "      <th>5</th>\n",
       "      <td>7810</td>\n",
       "      <td>71.22</td>\n",
       "      <td>10</td>\n",
       "      <td>7100.22</td>\n",
       "    </tr>\n",
       "    <tr>\n",
       "      <th>6</th>\n",
       "      <td>13700</td>\n",
       "      <td>74.84</td>\n",
       "      <td>5</td>\n",
       "      <td>13089.84</td>\n",
       "    </tr>\n",
       "    <tr>\n",
       "      <th>7</th>\n",
       "      <td>7960</td>\n",
       "      <td>52.28</td>\n",
       "      <td>5</td>\n",
       "      <td>10789.79</td>\n",
       "    </tr>\n",
       "    <tr>\n",
       "      <th>8</th>\n",
       "      <td>25390</td>\n",
       "      <td>107.58</td>\n",
       "      <td>10</td>\n",
       "      <td>22958.58</td>\n",
       "    </tr>\n",
       "    <tr>\n",
       "      <th>9</th>\n",
       "      <td>13320</td>\n",
       "      <td>62.26</td>\n",
       "      <td>15</td>\n",
       "      <td>11384.26</td>\n",
       "    </tr>\n",
       "  </tbody>\n",
       "</table>\n",
       "</div>"
      ],
      "text/plain": [
       "   order_price  delivery_charges  coupon_discount  order_total\n",
       "0        12200             79.89               10     11059.89\n",
       "1         9080             62.71                0      9142.71\n",
       "2        10670             65.87               10      9668.87\n",
       "3        24800             57.61               15     21137.61\n",
       "4         9145             75.54               25      6934.29\n",
       "5         7810             71.22               10      7100.22\n",
       "6        13700             74.84                5     13089.84\n",
       "7         7960             52.28                5     10789.79\n",
       "8        25390            107.58               10     22958.58\n",
       "9        13320             62.26               15     11384.26"
      ]
     },
     "execution_count": 21,
     "metadata": {},
     "output_type": "execute_result"
    }
   ],
   "source": [
    "dirty_data.loc[:,['order_price','delivery_charges','coupon_discount','order_total']].head(10)"
   ]
  },
  {
   "cell_type": "markdown",
   "id": "82dceb31",
   "metadata": {
    "papermill": {
     "duration": 0.044067,
     "end_time": "2021-09-30T10:46:36.340915",
     "exception": false,
     "start_time": "2021-09-30T10:46:36.296848",
     "status": "completed"
    },
    "tags": []
   },
   "source": [
    "# <p style=\"background-color:#4d91ff;font-family:newtimeroman;color:#FFF9ED;font-size:140%;text-align:center;border-radius:10px 10px;\">Computing and Displaying order_total price of first 10 records</p>"
   ]
  },
  {
   "cell_type": "code",
   "execution_count": 22,
   "id": "5a9ccba4",
   "metadata": {
    "execution": {
     "iopub.execute_input": "2021-09-30T10:46:36.440193Z",
     "iopub.status.busy": "2021-09-30T10:46:36.439501Z",
     "iopub.status.idle": "2021-09-30T10:46:36.443730Z",
     "shell.execute_reply": "2021-09-30T10:46:36.443247Z",
     "shell.execute_reply.started": "2021-07-20T12:04:09.329558Z"
    },
    "papermill": {
     "duration": 0.057203,
     "end_time": "2021-09-30T10:46:36.443875",
     "exception": false,
     "start_time": "2021-09-30T10:46:36.386672",
     "status": "completed"
    },
    "tags": []
   },
   "outputs": [
    {
     "name": "stdout",
     "output_type": "stream",
     "text": [
      "Order total of record at index 0 is: 1220.0 \n",
      "Order total of record at index 1 is: 9142.71 \n",
      "Order total of record at index 2 is: 1067.0 \n",
      "Order total of record at index 3 is: 3720.0 \n",
      "Order total of record at index 4 is: 2286.25 \n",
      "Order total of record at index 5 is: 781.0 \n",
      "Order total of record at index 6 is: 685.0 \n",
      "Order total of record at index 7 is: 398.0 \n",
      "Order total of record at index 8 is: 2539.0 \n",
      "Order total of record at index 9 is: 1998.0 \n"
     ]
    }
   ],
   "source": [
    "for i, index in enumerate(range(0,10)):\n",
    "    if (dirty_data['coupon_discount'][i] != 0):\n",
    "        dis_price = (dirty_data['order_price'][i]) * (dirty_data['coupon_discount'][i] / 100)   # apply coupon to original price\n",
    "        price = dis_price + dirty_data['delivery_charges'][i]         # adding delivery charges\n",
    "        final_price = np.round(dis_price,2)\n",
    "    \n",
    "    else:\n",
    "        final_price = dirty_data['order_price'][i] + dirty_data['delivery_charges'][i]   # adding order_price and delivery_charges\n",
    "        final_price = np.round(final_price,2)    # round off upto 2nd decimal place\n",
    "\n",
    "    print(f'Order total of record at index {index} is: {final_price} ')"
   ]
  },
  {
   "cell_type": "markdown",
   "id": "4b3c2da1",
   "metadata": {
    "papermill": {
     "duration": 0.044287,
     "end_time": "2021-09-30T10:46:36.533205",
     "exception": false,
     "start_time": "2021-09-30T10:46:36.488918",
     "status": "completed"
    },
    "tags": []
   },
   "source": [
    "### **It looks like that there is an error in order_total feature of dirty_data, So fixing this**"
   ]
  },
  {
   "cell_type": "code",
   "execution_count": 23,
   "id": "c9391b9d",
   "metadata": {
    "execution": {
     "iopub.execute_input": "2021-09-30T10:46:36.626883Z",
     "iopub.status.busy": "2021-09-30T10:46:36.626291Z",
     "iopub.status.idle": "2021-09-30T10:46:36.629530Z",
     "shell.execute_reply": "2021-09-30T10:46:36.629050Z",
     "shell.execute_reply.started": "2021-07-20T12:04:09.34335Z"
    },
    "papermill": {
     "duration": 0.051508,
     "end_time": "2021-09-30T10:46:36.629685",
     "exception": false,
     "start_time": "2021-09-30T10:46:36.578177",
     "status": "completed"
    },
    "tags": []
   },
   "outputs": [],
   "source": [
    "lis = list()     # creating an empty list"
   ]
  },
  {
   "cell_type": "markdown",
   "id": "7606aba3",
   "metadata": {
    "papermill": {
     "duration": 0.044001,
     "end_time": "2021-09-30T10:46:36.718694",
     "exception": false,
     "start_time": "2021-09-30T10:46:36.674693",
     "status": "completed"
    },
    "tags": []
   },
   "source": [
    "# <p style=\"background-color:#4d91ff;font-family:newtimeroman;color:#FFF9ED;font-size:140%;text-align:center;border-radius:10px 10px;\">Computing and appending order_final in 'lis'</p>"
   ]
  },
  {
   "cell_type": "code",
   "execution_count": 24,
   "id": "2dfeb8bd",
   "metadata": {
    "execution": {
     "iopub.execute_input": "2021-09-30T10:46:36.831649Z",
     "iopub.status.busy": "2021-09-30T10:46:36.826155Z",
     "iopub.status.idle": "2021-09-30T10:46:36.836270Z",
     "shell.execute_reply": "2021-09-30T10:46:36.835701Z",
     "shell.execute_reply.started": "2021-07-20T12:04:09.35077Z"
    },
    "papermill": {
     "duration": 0.073245,
     "end_time": "2021-09-30T10:46:36.836434",
     "exception": false,
     "start_time": "2021-09-30T10:46:36.763189",
     "status": "completed"
    },
    "tags": []
   },
   "outputs": [],
   "source": [
    "for i in range(0,len(dirty_data['order_price'])):\n",
    "    if (dirty_data['coupon_discount'][i] != 0):\n",
    "        dis_price = (dirty_data['order_price'][i]) * (dirty_data['coupon_discount'][i] / 100)   # apply coupon to original price\n",
    "        price = dis_price + dirty_data['delivery_charges'][i]         # adding delivery charges\n",
    "        final_price = np.round(dis_price,2)\n",
    "        lis.append(final_price)               # appending final_price to lis\n",
    "    \n",
    "    else:\n",
    "        final_price = dirty_data['order_price'][i] + dirty_data['delivery_charges'][i]   # adding order_price and delivery_charges\n",
    "        final_price = np.round(final_price,2)    # round off upto 2nd decimal place\n",
    "        lis.append(final_price)                  # appending final_price to lis\n"
   ]
  },
  {
   "cell_type": "code",
   "execution_count": 25,
   "id": "1417b8d3",
   "metadata": {
    "execution": {
     "iopub.execute_input": "2021-09-30T10:46:36.930059Z",
     "iopub.status.busy": "2021-09-30T10:46:36.929454Z",
     "iopub.status.idle": "2021-09-30T10:46:36.932686Z",
     "shell.execute_reply": "2021-09-30T10:46:36.933246Z",
     "shell.execute_reply.started": "2021-07-20T12:04:09.389715Z"
    },
    "papermill": {
     "duration": 0.052223,
     "end_time": "2021-09-30T10:46:36.933427",
     "exception": false,
     "start_time": "2021-09-30T10:46:36.881204",
     "status": "completed"
    },
    "tags": []
   },
   "outputs": [
    {
     "name": "stdout",
     "output_type": "stream",
     "text": [
      "Items (Price) in list is: 500\n"
     ]
    }
   ],
   "source": [
    "print(f'Items (Price) in list is: {len(lis)}')"
   ]
  },
  {
   "cell_type": "markdown",
   "id": "26f642c0",
   "metadata": {
    "papermill": {
     "duration": 0.044401,
     "end_time": "2021-09-30T10:46:37.022894",
     "exception": false,
     "start_time": "2021-09-30T10:46:36.978493",
     "status": "completed"
    },
    "tags": []
   },
   "source": [
    "# <p style=\"background-color:#4d91ff;font-family:newtimeroman;color:#FFF9ED;font-size:140%;text-align:center;border-radius:10px 10px;\">Converting list to Series and set it in order_total</p>"
   ]
  },
  {
   "cell_type": "code",
   "execution_count": 26,
   "id": "3c3bd03f",
   "metadata": {
    "execution": {
     "iopub.execute_input": "2021-09-30T10:46:37.119207Z",
     "iopub.status.busy": "2021-09-30T10:46:37.118535Z",
     "iopub.status.idle": "2021-09-30T10:46:37.120448Z",
     "shell.execute_reply": "2021-09-30T10:46:37.120966Z",
     "shell.execute_reply.started": "2021-07-20T12:04:09.397474Z"
    },
    "papermill": {
     "duration": 0.052374,
     "end_time": "2021-09-30T10:46:37.121154",
     "exception": false,
     "start_time": "2021-09-30T10:46:37.068780",
     "status": "completed"
    },
    "tags": []
   },
   "outputs": [],
   "source": [
    "dirty_data['order_total'] = pd.Series(lis)"
   ]
  },
  {
   "cell_type": "markdown",
   "id": "81435e8b",
   "metadata": {
    "papermill": {
     "duration": 0.044357,
     "end_time": "2021-09-30T10:46:37.210254",
     "exception": false,
     "start_time": "2021-09-30T10:46:37.165897",
     "status": "completed"
    },
    "tags": []
   },
   "source": [
    "**Now the problem with order_total is solved**"
   ]
  },
  {
   "cell_type": "markdown",
   "id": "e8a2a128",
   "metadata": {
    "papermill": {
     "duration": 0.044202,
     "end_time": "2021-09-30T10:46:37.299154",
     "exception": false,
     "start_time": "2021-09-30T10:46:37.254952",
     "status": "completed"
    },
    "tags": []
   },
   "source": [
    "# <p style=\"background-color:#4d91ff;font-family:newtimeroman;color:#FFF9ED;font-size:140%;text-align:center;border-radius:10px 10px;\">Removing outlier</p>\n",
    "\n",
    "### - **Using IQR**"
   ]
  },
  {
   "cell_type": "markdown",
   "id": "736ea419",
   "metadata": {
    "papermill": {
     "duration": 0.044082,
     "end_time": "2021-09-30T10:46:37.387726",
     "exception": false,
     "start_time": "2021-09-30T10:46:37.343644",
     "status": "completed"
    },
    "tags": []
   },
   "source": [
    "# <p style=\"background-color:#4d91ff;font-family:newtimeroman;color:#FFF9ED;font-size:130%;text-align:center;border-radius:10px 10px;\">Checking for Outlier in order_total</p>"
   ]
  },
  {
   "cell_type": "code",
   "execution_count": 27,
   "id": "384baa40",
   "metadata": {
    "execution": {
     "iopub.execute_input": "2021-09-30T10:46:37.479914Z",
     "iopub.status.busy": "2021-09-30T10:46:37.479293Z",
     "iopub.status.idle": "2021-09-30T10:46:37.485615Z",
     "shell.execute_reply": "2021-09-30T10:46:37.486112Z",
     "shell.execute_reply.started": "2021-07-20T12:04:09.411353Z"
    },
    "papermill": {
     "duration": 0.053701,
     "end_time": "2021-09-30T10:46:37.486300",
     "exception": false,
     "start_time": "2021-09-30T10:46:37.432599",
     "status": "completed"
    },
    "tags": []
   },
   "outputs": [],
   "source": [
    "Q1_order_total = dirty_data['order_total'].quantile(0.25)     # Lower Quartile\n",
    "Q3_order_total = dirty_data['order_total'].quantile(0.75)     # Upper Quartile"
   ]
  },
  {
   "cell_type": "code",
   "execution_count": 28,
   "id": "d0bc71c5",
   "metadata": {
    "execution": {
     "iopub.execute_input": "2021-09-30T10:46:37.578615Z",
     "iopub.status.busy": "2021-09-30T10:46:37.578036Z",
     "iopub.status.idle": "2021-09-30T10:46:37.583196Z",
     "shell.execute_reply": "2021-09-30T10:46:37.582738Z",
     "shell.execute_reply.started": "2021-07-20T12:04:09.426513Z"
    },
    "papermill": {
     "duration": 0.051849,
     "end_time": "2021-09-30T10:46:37.583373",
     "exception": false,
     "start_time": "2021-09-30T10:46:37.531524",
     "status": "completed"
    },
    "tags": []
   },
   "outputs": [
    {
     "name": "stdout",
     "output_type": "stream",
     "text": [
      "Lower Quartile is: 860.375\n",
      "Upper Quartile is: 5020.0\n"
     ]
    }
   ],
   "source": [
    "print(f'Lower Quartile is: {Q1_order_total}') \n",
    "print(f'Upper Quartile is: {Q3_order_total}')"
   ]
  },
  {
   "cell_type": "markdown",
   "id": "2bef1946",
   "metadata": {
    "papermill": {
     "duration": 0.044223,
     "end_time": "2021-09-30T10:46:37.672316",
     "exception": false,
     "start_time": "2021-09-30T10:46:37.628093",
     "status": "completed"
    },
    "tags": []
   },
   "source": [
    "# <p style=\"background-color:#4d91ff;font-family:newtimeroman;color:#FFF9ED;font-size:130%;text-align:center;border-radius:10px 10px;\">Finding IQR</p>"
   ]
  },
  {
   "cell_type": "code",
   "execution_count": 29,
   "id": "16b66f48",
   "metadata": {
    "execution": {
     "iopub.execute_input": "2021-09-30T10:46:37.765589Z",
     "iopub.status.busy": "2021-09-30T10:46:37.764974Z",
     "iopub.status.idle": "2021-09-30T10:46:37.767589Z",
     "shell.execute_reply": "2021-09-30T10:46:37.768066Z",
     "shell.execute_reply.started": "2021-07-20T12:04:09.446382Z"
    },
    "papermill": {
     "duration": 0.051313,
     "end_time": "2021-09-30T10:46:37.768249",
     "exception": false,
     "start_time": "2021-09-30T10:46:37.716936",
     "status": "completed"
    },
    "tags": []
   },
   "outputs": [],
   "source": [
    "# upper quartile - lower quartile\n",
    "\n",
    "IQR_order_total = Q3_order_total - Q1_order_total    "
   ]
  },
  {
   "cell_type": "code",
   "execution_count": 30,
   "id": "a52b5041",
   "metadata": {
    "execution": {
     "iopub.execute_input": "2021-09-30T10:46:37.860967Z",
     "iopub.status.busy": "2021-09-30T10:46:37.860302Z",
     "iopub.status.idle": "2021-09-30T10:46:37.865639Z",
     "shell.execute_reply": "2021-09-30T10:46:37.865071Z",
     "shell.execute_reply.started": "2021-07-20T12:04:09.453499Z"
    },
    "papermill": {
     "duration": 0.052297,
     "end_time": "2021-09-30T10:46:37.865773",
     "exception": false,
     "start_time": "2021-09-30T10:46:37.813476",
     "status": "completed"
    },
    "tags": []
   },
   "outputs": [
    {
     "name": "stdout",
     "output_type": "stream",
     "text": [
      "Value of IQR_order_total is: 4159.625\n"
     ]
    }
   ],
   "source": [
    "print(f'Value of IQR_order_total is: {IQR_order_total}')"
   ]
  },
  {
   "cell_type": "markdown",
   "id": "2581bdd4",
   "metadata": {
    "papermill": {
     "duration": 0.044415,
     "end_time": "2021-09-30T10:46:37.955073",
     "exception": false,
     "start_time": "2021-09-30T10:46:37.910658",
     "status": "completed"
    },
    "tags": []
   },
   "source": [
    "# <p style=\"background-color:#4d91ff;font-family:newtimeroman;color:#FFF9ED;font-size:130%;text-align:center;border-radius:10px 10px;\">Finding lower and upper limit</p>"
   ]
  },
  {
   "cell_type": "code",
   "execution_count": 31,
   "id": "16bd86bd",
   "metadata": {
    "execution": {
     "iopub.execute_input": "2021-09-30T10:46:38.051882Z",
     "iopub.status.busy": "2021-09-30T10:46:38.051275Z",
     "iopub.status.idle": "2021-09-30T10:46:38.054638Z",
     "shell.execute_reply": "2021-09-30T10:46:38.054049Z",
     "shell.execute_reply.started": "2021-07-20T12:04:09.464232Z"
    },
    "papermill": {
     "duration": 0.05308,
     "end_time": "2021-09-30T10:46:38.054773",
     "exception": false,
     "start_time": "2021-09-30T10:46:38.001693",
     "status": "completed"
    },
    "tags": []
   },
   "outputs": [],
   "source": [
    "lower_limit_order_total = Q1_order_total - 1.5 * IQR_order_total\n",
    "upper_limit_order_total = Q3_order_total + 1.5 * IQR_order_total"
   ]
  },
  {
   "cell_type": "code",
   "execution_count": 32,
   "id": "3b4567ee",
   "metadata": {
    "execution": {
     "iopub.execute_input": "2021-09-30T10:46:38.150037Z",
     "iopub.status.busy": "2021-09-30T10:46:38.149108Z",
     "iopub.status.idle": "2021-09-30T10:46:38.155540Z",
     "shell.execute_reply": "2021-09-30T10:46:38.154749Z",
     "shell.execute_reply.started": "2021-07-20T12:04:09.475949Z"
    },
    "papermill": {
     "duration": 0.054376,
     "end_time": "2021-09-30T10:46:38.155726",
     "exception": false,
     "start_time": "2021-09-30T10:46:38.101350",
     "status": "completed"
    },
    "tags": []
   },
   "outputs": [
    {
     "name": "stdout",
     "output_type": "stream",
     "text": [
      "Lower limit of order_total is: -5379.0625\n",
      "Upper limit of order_total is: 11259.4375\n"
     ]
    }
   ],
   "source": [
    "print(f'Lower limit of order_total is: {lower_limit_order_total}')\n",
    "print(f'Upper limit of order_total is: {upper_limit_order_total}')"
   ]
  },
  {
   "cell_type": "markdown",
   "id": "5711726c",
   "metadata": {
    "papermill": {
     "duration": 0.045044,
     "end_time": "2021-09-30T10:46:38.247700",
     "exception": false,
     "start_time": "2021-09-30T10:46:38.202656",
     "status": "completed"
    },
    "tags": []
   },
   "source": [
    "### **Any value less then lower limit and greater then upper limit is outlier**"
   ]
  },
  {
   "cell_type": "markdown",
   "id": "153f61d6",
   "metadata": {
    "papermill": {
     "duration": 0.04503,
     "end_time": "2021-09-30T10:46:38.338137",
     "exception": false,
     "start_time": "2021-09-30T10:46:38.293107",
     "status": "completed"
    },
    "tags": []
   },
   "source": [
    "# <p style=\"background-color:#4d91ff;font-family:newtimeroman;color:#FFF9ED;font-size:130%;text-align:center;border-radius:10px 10px;\">Displaying all outlier values</p>"
   ]
  },
  {
   "cell_type": "code",
   "execution_count": 33,
   "id": "6fe3f91e",
   "metadata": {
    "execution": {
     "iopub.execute_input": "2021-09-30T10:46:38.435307Z",
     "iopub.status.busy": "2021-09-30T10:46:38.434652Z",
     "iopub.status.idle": "2021-09-30T10:46:38.437691Z",
     "shell.execute_reply": "2021-09-30T10:46:38.437046Z",
     "shell.execute_reply.started": "2021-07-20T12:04:09.488597Z"
    },
    "papermill": {
     "duration": 0.05423,
     "end_time": "2021-09-30T10:46:38.437834",
     "exception": false,
     "start_time": "2021-09-30T10:46:38.383604",
     "status": "completed"
    },
    "tags": []
   },
   "outputs": [],
   "source": [
    "outlier_dirty_data = dirty_data[(dirty_data['order_total'] < lower_limit_order_total) | (dirty_data['order_total'] > upper_limit_order_total)]"
   ]
  },
  {
   "cell_type": "code",
   "execution_count": 34,
   "id": "ba6539d9",
   "metadata": {
    "execution": {
     "iopub.execute_input": "2021-09-30T10:46:38.561785Z",
     "iopub.status.busy": "2021-09-30T10:46:38.533471Z",
     "iopub.status.idle": "2021-09-30T10:46:38.566395Z",
     "shell.execute_reply": "2021-09-30T10:46:38.565928Z",
     "shell.execute_reply.started": "2021-07-20T12:04:09.499494Z"
    },
    "papermill": {
     "duration": 0.083351,
     "end_time": "2021-09-30T10:46:38.566535",
     "exception": false,
     "start_time": "2021-09-30T10:46:38.483184",
     "status": "completed"
    },
    "tags": []
   },
   "outputs": [
    {
     "data": {
      "text/html": [
       "<div>\n",
       "<style scoped>\n",
       "    .dataframe tbody tr th:only-of-type {\n",
       "        vertical-align: middle;\n",
       "    }\n",
       "\n",
       "    .dataframe tbody tr th {\n",
       "        vertical-align: top;\n",
       "    }\n",
       "\n",
       "    .dataframe thead th {\n",
       "        text-align: right;\n",
       "    }\n",
       "</style>\n",
       "<table border=\"1\" class=\"dataframe\">\n",
       "  <thead>\n",
       "    <tr style=\"text-align: right;\">\n",
       "      <th></th>\n",
       "      <th>order_id</th>\n",
       "      <th>customer_id</th>\n",
       "      <th>date</th>\n",
       "      <th>nearest_warehouse</th>\n",
       "      <th>shopping_cart</th>\n",
       "      <th>order_price</th>\n",
       "      <th>delivery_charges</th>\n",
       "      <th>customer_lat</th>\n",
       "      <th>customer_long</th>\n",
       "      <th>coupon_discount</th>\n",
       "      <th>order_total</th>\n",
       "      <th>season</th>\n",
       "      <th>is_expedited_delivery</th>\n",
       "      <th>distance_to_nearest_warehouse</th>\n",
       "      <th>latest_customer_review</th>\n",
       "      <th>is_happy_customer</th>\n",
       "    </tr>\n",
       "  </thead>\n",
       "  <tbody>\n",
       "    <tr>\n",
       "      <th>10</th>\n",
       "      <td>ORD034800</td>\n",
       "      <td>ID4283908179</td>\n",
       "      <td>2019-08-03</td>\n",
       "      <td>Bakers</td>\n",
       "      <td>[('Alcon 10', 2), ('pearTV', 2), ('iStream', 1...</td>\n",
       "      <td>31895</td>\n",
       "      <td>78.25</td>\n",
       "      <td>-37.811334</td>\n",
       "      <td>145.008678</td>\n",
       "      <td>0</td>\n",
       "      <td>31973.25</td>\n",
       "      <td>Winter</td>\n",
       "      <td>True</td>\n",
       "      <td>1.1919</td>\n",
       "      <td>i love this phone it is so user friendly and t...</td>\n",
       "      <td>True</td>\n",
       "    </tr>\n",
       "    <tr>\n",
       "      <th>12</th>\n",
       "      <td>ORD124395</td>\n",
       "      <td>ID0702352304</td>\n",
       "      <td>2019-02-11</td>\n",
       "      <td>Thompson</td>\n",
       "      <td>[('Alcon 10', 1), ('Universe Note', 1), ('pear...</td>\n",
       "      <td>19010</td>\n",
       "      <td>94.75</td>\n",
       "      <td>-37.805433</td>\n",
       "      <td>144.941333</td>\n",
       "      <td>0</td>\n",
       "      <td>19104.75</td>\n",
       "      <td>Summer</td>\n",
       "      <td>True</td>\n",
       "      <td>0.9509</td>\n",
       "      <td>the cult's alive i love this little dummy-phon...</td>\n",
       "      <td>True</td>\n",
       "    </tr>\n",
       "    <tr>\n",
       "      <th>13</th>\n",
       "      <td>ORD255642</td>\n",
       "      <td>ID3085953531</td>\n",
       "      <td>2019-12-24</td>\n",
       "      <td>Nickolson</td>\n",
       "      <td>[('iAssist Line', 2), ('Alcon 10', 1), ('pearT...</td>\n",
       "      <td>19710</td>\n",
       "      <td>75.64</td>\n",
       "      <td>-37.816166</td>\n",
       "      <td>144.975278</td>\n",
       "      <td>0</td>\n",
       "      <td>19785.64</td>\n",
       "      <td>Summer</td>\n",
       "      <td>True</td>\n",
       "      <td>0.5716</td>\n",
       "      <td>phone had a problem phone seemed great but con...</td>\n",
       "      <td>False</td>\n",
       "    </tr>\n",
       "    <tr>\n",
       "      <th>14</th>\n",
       "      <td>ORD496722</td>\n",
       "      <td>ID0589449820</td>\n",
       "      <td>2019-04-09</td>\n",
       "      <td>Nickolson</td>\n",
       "      <td>[('pearTV', 2), ('iStream', 1), ('Lucent 330S'...</td>\n",
       "      <td>31900</td>\n",
       "      <td>79.78</td>\n",
       "      <td>-37.809463</td>\n",
       "      <td>144.972367</td>\n",
       "      <td>0</td>\n",
       "      <td>31979.78</td>\n",
       "      <td>Autumn</td>\n",
       "      <td>True</td>\n",
       "      <td>66.6483</td>\n",
       "      <td>five stars good speed, like stanley</td>\n",
       "      <td>True</td>\n",
       "    </tr>\n",
       "    <tr>\n",
       "      <th>20</th>\n",
       "      <td>ORD178590</td>\n",
       "      <td>ID6167441029</td>\n",
       "      <td>2019-11-20</td>\n",
       "      <td>Thompson</td>\n",
       "      <td>[('Candle Inferno', 1), ('Toshika 750', 2), ('...</td>\n",
       "      <td>13710</td>\n",
       "      <td>77.61</td>\n",
       "      <td>-37.809311</td>\n",
       "      <td>145.018595</td>\n",
       "      <td>0</td>\n",
       "      <td>13787.61</td>\n",
       "      <td>Spring</td>\n",
       "      <td>False</td>\n",
       "      <td>1.2791</td>\n",
       "      <td>love it. perfect. the battery life is at 94% w...</td>\n",
       "      <td>True</td>\n",
       "    </tr>\n",
       "    <tr>\n",
       "      <th>...</th>\n",
       "      <td>...</td>\n",
       "      <td>...</td>\n",
       "      <td>...</td>\n",
       "      <td>...</td>\n",
       "      <td>...</td>\n",
       "      <td>...</td>\n",
       "      <td>...</td>\n",
       "      <td>...</td>\n",
       "      <td>...</td>\n",
       "      <td>...</td>\n",
       "      <td>...</td>\n",
       "      <td>...</td>\n",
       "      <td>...</td>\n",
       "      <td>...</td>\n",
       "      <td>...</td>\n",
       "      <td>...</td>\n",
       "    </tr>\n",
       "    <tr>\n",
       "      <th>483</th>\n",
       "      <td>ORD033121</td>\n",
       "      <td>ID0777768981</td>\n",
       "      <td>2019-05-17</td>\n",
       "      <td>Thompson</td>\n",
       "      <td>[('Olivia x460', 1), ('pearTV', 2), ('Universe...</td>\n",
       "      <td>20745</td>\n",
       "      <td>67.67</td>\n",
       "      <td>-37.806155</td>\n",
       "      <td>144.958304</td>\n",
       "      <td>0</td>\n",
       "      <td>20812.67</td>\n",
       "      <td>Autumn</td>\n",
       "      <td>False</td>\n",
       "      <td>1.2259</td>\n",
       "      <td>worth it fantastic worth every penny</td>\n",
       "      <td>True</td>\n",
       "    </tr>\n",
       "    <tr>\n",
       "      <th>487</th>\n",
       "      <td>ORD234473</td>\n",
       "      <td>ID0127674021</td>\n",
       "      <td>2019-07-04</td>\n",
       "      <td>Thompson</td>\n",
       "      <td>[('Candle Inferno', 1), ('Toshika 750', 2), ('...</td>\n",
       "      <td>33870</td>\n",
       "      <td>77.06</td>\n",
       "      <td>-37.802392</td>\n",
       "      <td>144.998158</td>\n",
       "      <td>0</td>\n",
       "      <td>33947.06</td>\n",
       "      <td>Winter</td>\n",
       "      <td>True</td>\n",
       "      <td>0.8848</td>\n",
       "      <td>misses phone calls i love the features. you ge...</td>\n",
       "      <td>True</td>\n",
       "    </tr>\n",
       "    <tr>\n",
       "      <th>495</th>\n",
       "      <td>ORD475510</td>\n",
       "      <td>ID0247417082</td>\n",
       "      <td>2019-08-07</td>\n",
       "      <td>Nickolson</td>\n",
       "      <td>[('Alcon 10', 2), ('iAssist Line', 2)]</td>\n",
       "      <td>386776</td>\n",
       "      <td>59.70</td>\n",
       "      <td>-37.817662</td>\n",
       "      <td>144.970405</td>\n",
       "      <td>10</td>\n",
       "      <td>38677.60</td>\n",
       "      <td>Winter</td>\n",
       "      <td>True</td>\n",
       "      <td>0.1282</td>\n",
       "      <td>i bought this phone to send to my sister in .....</td>\n",
       "      <td>False</td>\n",
       "    </tr>\n",
       "    <tr>\n",
       "      <th>496</th>\n",
       "      <td>ORD086060</td>\n",
       "      <td>ID0130015098</td>\n",
       "      <td>2019-03-28</td>\n",
       "      <td>Nickolson</td>\n",
       "      <td>[('pearTV', 2), ('Candle Inferno', 2), ('Toshi...</td>\n",
       "      <td>22120</td>\n",
       "      <td>62.29</td>\n",
       "      <td>-37.815469</td>\n",
       "      <td>144.968083</td>\n",
       "      <td>0</td>\n",
       "      <td>22182.29</td>\n",
       "      <td>Autumn</td>\n",
       "      <td>True</td>\n",
       "      <td>0.3711</td>\n",
       "      <td>one star it was the wrong phone</td>\n",
       "      <td>False</td>\n",
       "    </tr>\n",
       "    <tr>\n",
       "      <th>497</th>\n",
       "      <td>ORD079320</td>\n",
       "      <td>ID2707985442</td>\n",
       "      <td>2019-10-16</td>\n",
       "      <td>Nickolson</td>\n",
       "      <td>[('pearTV', 1), ('Alcon 10', 1), ('Lucent 330S...</td>\n",
       "      <td>16490</td>\n",
       "      <td>106.98</td>\n",
       "      <td>-37.805979</td>\n",
       "      <td>144.966101</td>\n",
       "      <td>0</td>\n",
       "      <td>16596.98</td>\n",
       "      <td>Spring</td>\n",
       "      <td>True</td>\n",
       "      <td>1.4368</td>\n",
       "      <td>love this phone! has many great features!</td>\n",
       "      <td>True</td>\n",
       "    </tr>\n",
       "  </tbody>\n",
       "</table>\n",
       "<p>72 rows × 16 columns</p>\n",
       "</div>"
      ],
      "text/plain": [
       "      order_id   customer_id       date nearest_warehouse  \\\n",
       "10   ORD034800  ID4283908179 2019-08-03            Bakers   \n",
       "12   ORD124395  ID0702352304 2019-02-11          Thompson   \n",
       "13   ORD255642  ID3085953531 2019-12-24         Nickolson   \n",
       "14   ORD496722  ID0589449820 2019-04-09         Nickolson   \n",
       "20   ORD178590  ID6167441029 2019-11-20          Thompson   \n",
       "..         ...           ...        ...               ...   \n",
       "483  ORD033121  ID0777768981 2019-05-17          Thompson   \n",
       "487  ORD234473  ID0127674021 2019-07-04          Thompson   \n",
       "495  ORD475510  ID0247417082 2019-08-07         Nickolson   \n",
       "496  ORD086060  ID0130015098 2019-03-28         Nickolson   \n",
       "497  ORD079320  ID2707985442 2019-10-16         Nickolson   \n",
       "\n",
       "                                         shopping_cart  order_price  \\\n",
       "10   [('Alcon 10', 2), ('pearTV', 2), ('iStream', 1...        31895   \n",
       "12   [('Alcon 10', 1), ('Universe Note', 1), ('pear...        19010   \n",
       "13   [('iAssist Line', 2), ('Alcon 10', 1), ('pearT...        19710   \n",
       "14   [('pearTV', 2), ('iStream', 1), ('Lucent 330S'...        31900   \n",
       "20   [('Candle Inferno', 1), ('Toshika 750', 2), ('...        13710   \n",
       "..                                                 ...          ...   \n",
       "483  [('Olivia x460', 1), ('pearTV', 2), ('Universe...        20745   \n",
       "487  [('Candle Inferno', 1), ('Toshika 750', 2), ('...        33870   \n",
       "495             [('Alcon 10', 2), ('iAssist Line', 2)]       386776   \n",
       "496  [('pearTV', 2), ('Candle Inferno', 2), ('Toshi...        22120   \n",
       "497  [('pearTV', 1), ('Alcon 10', 1), ('Lucent 330S...        16490   \n",
       "\n",
       "     delivery_charges  customer_lat  customer_long  coupon_discount  \\\n",
       "10              78.25    -37.811334     145.008678                0   \n",
       "12              94.75    -37.805433     144.941333                0   \n",
       "13              75.64    -37.816166     144.975278                0   \n",
       "14              79.78    -37.809463     144.972367                0   \n",
       "20              77.61    -37.809311     145.018595                0   \n",
       "..                ...           ...            ...              ...   \n",
       "483             67.67    -37.806155     144.958304                0   \n",
       "487             77.06    -37.802392     144.998158                0   \n",
       "495             59.70    -37.817662     144.970405               10   \n",
       "496             62.29    -37.815469     144.968083                0   \n",
       "497            106.98    -37.805979     144.966101                0   \n",
       "\n",
       "     order_total  season  is_expedited_delivery  \\\n",
       "10      31973.25  Winter                   True   \n",
       "12      19104.75  Summer                   True   \n",
       "13      19785.64  Summer                   True   \n",
       "14      31979.78  Autumn                   True   \n",
       "20      13787.61  Spring                  False   \n",
       "..           ...     ...                    ...   \n",
       "483     20812.67  Autumn                  False   \n",
       "487     33947.06  Winter                   True   \n",
       "495     38677.60  Winter                   True   \n",
       "496     22182.29  Autumn                   True   \n",
       "497     16596.98  Spring                   True   \n",
       "\n",
       "     distance_to_nearest_warehouse  \\\n",
       "10                          1.1919   \n",
       "12                          0.9509   \n",
       "13                          0.5716   \n",
       "14                         66.6483   \n",
       "20                          1.2791   \n",
       "..                             ...   \n",
       "483                         1.2259   \n",
       "487                         0.8848   \n",
       "495                         0.1282   \n",
       "496                         0.3711   \n",
       "497                         1.4368   \n",
       "\n",
       "                                latest_customer_review  is_happy_customer  \n",
       "10   i love this phone it is so user friendly and t...               True  \n",
       "12   the cult's alive i love this little dummy-phon...               True  \n",
       "13   phone had a problem phone seemed great but con...              False  \n",
       "14                 five stars good speed, like stanley               True  \n",
       "20   love it. perfect. the battery life is at 94% w...               True  \n",
       "..                                                 ...                ...  \n",
       "483               worth it fantastic worth every penny               True  \n",
       "487  misses phone calls i love the features. you ge...               True  \n",
       "495  i bought this phone to send to my sister in .....              False  \n",
       "496                    one star it was the wrong phone              False  \n",
       "497          love this phone! has many great features!               True  \n",
       "\n",
       "[72 rows x 16 columns]"
      ]
     },
     "execution_count": 34,
     "metadata": {},
     "output_type": "execute_result"
    }
   ],
   "source": [
    "outlier_dirty_data"
   ]
  },
  {
   "cell_type": "markdown",
   "id": "a47cd263",
   "metadata": {
    "papermill": {
     "duration": 0.04594,
     "end_time": "2021-09-30T10:46:38.658778",
     "exception": false,
     "start_time": "2021-09-30T10:46:38.612838",
     "status": "completed"
    },
    "tags": []
   },
   "source": [
    "## **Above records is outlier, So removing it from original data**"
   ]
  },
  {
   "cell_type": "code",
   "execution_count": 35,
   "id": "1d72cb93",
   "metadata": {
    "execution": {
     "iopub.execute_input": "2021-09-30T10:46:38.757284Z",
     "iopub.status.busy": "2021-09-30T10:46:38.756516Z",
     "iopub.status.idle": "2021-09-30T10:46:38.759453Z",
     "shell.execute_reply": "2021-09-30T10:46:38.759884Z",
     "shell.execute_reply.started": "2021-07-20T12:04:09.544524Z"
    },
    "papermill": {
     "duration": 0.054486,
     "end_time": "2021-09-30T10:46:38.760047",
     "exception": false,
     "start_time": "2021-09-30T10:46:38.705561",
     "status": "completed"
    },
    "tags": []
   },
   "outputs": [
    {
     "name": "stdout",
     "output_type": "stream",
     "text": [
      "Total outlier records in dirty_data is: 72\n"
     ]
    }
   ],
   "source": [
    "print(f'Total outlier records in dirty_data is: {outlier_dirty_data.shape[0]}')"
   ]
  },
  {
   "cell_type": "markdown",
   "id": "ba489dab",
   "metadata": {
    "papermill": {
     "duration": 0.046164,
     "end_time": "2021-09-30T10:46:38.852508",
     "exception": false,
     "start_time": "2021-09-30T10:46:38.806344",
     "status": "completed"
    },
    "tags": []
   },
   "source": [
    "### **Any data which is greater than lower limit and less than upper limit is Not an Outlier**"
   ]
  },
  {
   "cell_type": "code",
   "execution_count": 36,
   "id": "6a56b9b5",
   "metadata": {
    "execution": {
     "iopub.execute_input": "2021-09-30T10:46:38.950588Z",
     "iopub.status.busy": "2021-09-30T10:46:38.949590Z",
     "iopub.status.idle": "2021-09-30T10:46:38.956061Z",
     "shell.execute_reply": "2021-09-30T10:46:38.956626Z",
     "shell.execute_reply.started": "2021-07-20T12:04:09.550862Z"
    },
    "papermill": {
     "duration": 0.055961,
     "end_time": "2021-09-30T10:46:38.956811",
     "exception": false,
     "start_time": "2021-09-30T10:46:38.900850",
     "status": "completed"
    },
    "tags": []
   },
   "outputs": [],
   "source": [
    "data_without_outlier = dirty_data[(dirty_data['order_total'] > lower_limit_order_total) & (dirty_data['order_total'] < upper_limit_order_total)]"
   ]
  },
  {
   "cell_type": "code",
   "execution_count": 37,
   "id": "77c2e614",
   "metadata": {
    "execution": {
     "iopub.execute_input": "2021-09-30T10:46:39.052890Z",
     "iopub.status.busy": "2021-09-30T10:46:39.051909Z",
     "iopub.status.idle": "2021-09-30T10:46:39.058457Z",
     "shell.execute_reply": "2021-09-30T10:46:39.057399Z",
     "shell.execute_reply.started": "2021-07-20T12:04:09.562604Z"
    },
    "papermill": {
     "duration": 0.0556,
     "end_time": "2021-09-30T10:46:39.058664",
     "exception": false,
     "start_time": "2021-09-30T10:46:39.003064",
     "status": "completed"
    },
    "tags": []
   },
   "outputs": [
    {
     "name": "stdout",
     "output_type": "stream",
     "text": [
      "Total numbers of records without outliers is: 428\n"
     ]
    }
   ],
   "source": [
    "print(f'Total numbers of records without outliers is: {data_without_outlier.shape[0]}')"
   ]
  },
  {
   "cell_type": "markdown",
   "id": "b8c3b7c4",
   "metadata": {
    "papermill": {
     "duration": 0.046292,
     "end_time": "2021-09-30T10:46:39.155278",
     "exception": false,
     "start_time": "2021-09-30T10:46:39.108986",
     "status": "completed"
    },
    "tags": []
   },
   "source": [
    "# <p style=\"background-color:#4d91ff;font-family:newtimeroman;color:#FFF9ED;font-size:140%;text-align:center;border-radius:10px 10px;\">Displaying top 5 records of data without outliers</p>"
   ]
  },
  {
   "cell_type": "code",
   "execution_count": 38,
   "id": "43108500",
   "metadata": {
    "execution": {
     "iopub.execute_input": "2021-09-30T10:46:39.268246Z",
     "iopub.status.busy": "2021-09-30T10:46:39.267437Z",
     "iopub.status.idle": "2021-09-30T10:46:39.270670Z",
     "shell.execute_reply": "2021-09-30T10:46:39.271141Z",
     "shell.execute_reply.started": "2021-07-20T12:04:09.570537Z"
    },
    "papermill": {
     "duration": 0.068838,
     "end_time": "2021-09-30T10:46:39.271310",
     "exception": false,
     "start_time": "2021-09-30T10:46:39.202472",
     "status": "completed"
    },
    "tags": []
   },
   "outputs": [
    {
     "data": {
      "text/html": [
       "<div>\n",
       "<style scoped>\n",
       "    .dataframe tbody tr th:only-of-type {\n",
       "        vertical-align: middle;\n",
       "    }\n",
       "\n",
       "    .dataframe tbody tr th {\n",
       "        vertical-align: top;\n",
       "    }\n",
       "\n",
       "    .dataframe thead th {\n",
       "        text-align: right;\n",
       "    }\n",
       "</style>\n",
       "<table border=\"1\" class=\"dataframe\">\n",
       "  <thead>\n",
       "    <tr style=\"text-align: right;\">\n",
       "      <th></th>\n",
       "      <th>order_id</th>\n",
       "      <th>customer_id</th>\n",
       "      <th>date</th>\n",
       "      <th>nearest_warehouse</th>\n",
       "      <th>shopping_cart</th>\n",
       "      <th>order_price</th>\n",
       "      <th>delivery_charges</th>\n",
       "      <th>customer_lat</th>\n",
       "      <th>customer_long</th>\n",
       "      <th>coupon_discount</th>\n",
       "      <th>order_total</th>\n",
       "      <th>season</th>\n",
       "      <th>is_expedited_delivery</th>\n",
       "      <th>distance_to_nearest_warehouse</th>\n",
       "      <th>latest_customer_review</th>\n",
       "      <th>is_happy_customer</th>\n",
       "    </tr>\n",
       "  </thead>\n",
       "  <tbody>\n",
       "    <tr>\n",
       "      <th>0</th>\n",
       "      <td>ORD182494</td>\n",
       "      <td>ID6197211592</td>\n",
       "      <td>2019-06-22</td>\n",
       "      <td>Thompson</td>\n",
       "      <td>[('Lucent 330S', 1), ('Thunder line', 2), ('iS...</td>\n",
       "      <td>12200</td>\n",
       "      <td>79.89</td>\n",
       "      <td>-37.815105</td>\n",
       "      <td>144.932843</td>\n",
       "      <td>10</td>\n",
       "      <td>1220.00</td>\n",
       "      <td>Winter</td>\n",
       "      <td>True</td>\n",
       "      <td>1.2800</td>\n",
       "      <td>perfect phone and trusted seller. phone itself...</td>\n",
       "      <td>True</td>\n",
       "    </tr>\n",
       "    <tr>\n",
       "      <th>1</th>\n",
       "      <td>ORD395518</td>\n",
       "      <td>ID0282825849</td>\n",
       "      <td>2019-12-29</td>\n",
       "      <td>Thompson</td>\n",
       "      <td>[('Thunder line', 1), ('Universe Note', 2)]</td>\n",
       "      <td>9080</td>\n",
       "      <td>62.71</td>\n",
       "      <td>-37.802736</td>\n",
       "      <td>144.951118</td>\n",
       "      <td>0</td>\n",
       "      <td>9142.71</td>\n",
       "      <td>Summer</td>\n",
       "      <td>False</td>\n",
       "      <td>1.1621</td>\n",
       "      <td>it keeps dropping calls the wifi don't work th...</td>\n",
       "      <td>False</td>\n",
       "    </tr>\n",
       "    <tr>\n",
       "      <th>2</th>\n",
       "      <td>ORD494479</td>\n",
       "      <td>ID0579391891</td>\n",
       "      <td>2019-03-02</td>\n",
       "      <td>Nickolson</td>\n",
       "      <td>[('Thunder line', 1), ('pearTV', 2)]</td>\n",
       "      <td>10670</td>\n",
       "      <td>65.87</td>\n",
       "      <td>-37.821302</td>\n",
       "      <td>144.957581</td>\n",
       "      <td>10</td>\n",
       "      <td>1067.00</td>\n",
       "      <td>Autumn</td>\n",
       "      <td>False</td>\n",
       "      <td>1.0949</td>\n",
       "      <td>five stars this is a great cheap phone.</td>\n",
       "      <td>True</td>\n",
       "    </tr>\n",
       "    <tr>\n",
       "      <th>3</th>\n",
       "      <td>ORD019224</td>\n",
       "      <td>ID4544561904</td>\n",
       "      <td>2019-01-12</td>\n",
       "      <td>Nickolson</td>\n",
       "      <td>[('Universe Note', 1), ('Alcon 10', 2), ('Oliv...</td>\n",
       "      <td>24800</td>\n",
       "      <td>57.61</td>\n",
       "      <td>-37.811416</td>\n",
       "      <td>144.973073</td>\n",
       "      <td>15</td>\n",
       "      <td>3720.00</td>\n",
       "      <td>Summer</td>\n",
       "      <td>False</td>\n",
       "      <td>0.8571</td>\n",
       "      <td>charger did not fit the charger didn't fit.</td>\n",
       "      <td>False</td>\n",
       "    </tr>\n",
       "    <tr>\n",
       "      <th>4</th>\n",
       "      <td>ORD104032</td>\n",
       "      <td>ID6231506320</td>\n",
       "      <td>2019-11-28</td>\n",
       "      <td>Nickolson</td>\n",
       "      <td>[('Universe Note', 1), ('Olivia x460', 1), ('i...</td>\n",
       "      <td>9145</td>\n",
       "      <td>75.54</td>\n",
       "      <td>37.823859</td>\n",
       "      <td>144.969892</td>\n",
       "      <td>25</td>\n",
       "      <td>2286.25</td>\n",
       "      <td>Spring</td>\n",
       "      <td>False</td>\n",
       "      <td>0.5867</td>\n",
       "      <td>four stars good</td>\n",
       "      <td>True</td>\n",
       "    </tr>\n",
       "  </tbody>\n",
       "</table>\n",
       "</div>"
      ],
      "text/plain": [
       "    order_id   customer_id       date nearest_warehouse  \\\n",
       "0  ORD182494  ID6197211592 2019-06-22          Thompson   \n",
       "1  ORD395518  ID0282825849 2019-12-29          Thompson   \n",
       "2  ORD494479  ID0579391891 2019-03-02         Nickolson   \n",
       "3  ORD019224  ID4544561904 2019-01-12         Nickolson   \n",
       "4  ORD104032  ID6231506320 2019-11-28         Nickolson   \n",
       "\n",
       "                                       shopping_cart  order_price  \\\n",
       "0  [('Lucent 330S', 1), ('Thunder line', 2), ('iS...        12200   \n",
       "1        [('Thunder line', 1), ('Universe Note', 2)]         9080   \n",
       "2               [('Thunder line', 1), ('pearTV', 2)]        10670   \n",
       "3  [('Universe Note', 1), ('Alcon 10', 2), ('Oliv...        24800   \n",
       "4  [('Universe Note', 1), ('Olivia x460', 1), ('i...         9145   \n",
       "\n",
       "   delivery_charges  customer_lat  customer_long  coupon_discount  \\\n",
       "0             79.89    -37.815105     144.932843               10   \n",
       "1             62.71    -37.802736     144.951118                0   \n",
       "2             65.87    -37.821302     144.957581               10   \n",
       "3             57.61    -37.811416     144.973073               15   \n",
       "4             75.54     37.823859     144.969892               25   \n",
       "\n",
       "   order_total  season  is_expedited_delivery  distance_to_nearest_warehouse  \\\n",
       "0      1220.00  Winter                   True                         1.2800   \n",
       "1      9142.71  Summer                  False                         1.1621   \n",
       "2      1067.00  Autumn                  False                         1.0949   \n",
       "3      3720.00  Summer                  False                         0.8571   \n",
       "4      2286.25  Spring                  False                         0.5867   \n",
       "\n",
       "                              latest_customer_review  is_happy_customer  \n",
       "0  perfect phone and trusted seller. phone itself...               True  \n",
       "1  it keeps dropping calls the wifi don't work th...              False  \n",
       "2            five stars this is a great cheap phone.               True  \n",
       "3        charger did not fit the charger didn't fit.              False  \n",
       "4                                    four stars good               True  "
      ]
     },
     "execution_count": 38,
     "metadata": {},
     "output_type": "execute_result"
    }
   ],
   "source": [
    "data_without_outlier.head()"
   ]
  },
  {
   "cell_type": "markdown",
   "id": "cd2e8752",
   "metadata": {
    "papermill": {
     "duration": 0.047029,
     "end_time": "2021-09-30T10:46:39.365375",
     "exception": false,
     "start_time": "2021-09-30T10:46:39.318346",
     "status": "completed"
    },
    "tags": []
   },
   "source": [
    "# <p style=\"background-color:#4d91ff;font-family:newtimeroman;color:#FFF9ED;font-size:140%;text-align:center;border-radius:10px 10px;\">Analyzing how many customers are happy with sevice</p>"
   ]
  },
  {
   "cell_type": "code",
   "execution_count": 39,
   "id": "741621ad",
   "metadata": {
    "execution": {
     "iopub.execute_input": "2021-09-30T10:46:39.468287Z",
     "iopub.status.busy": "2021-09-30T10:46:39.467342Z",
     "iopub.status.idle": "2021-09-30T10:46:39.471157Z",
     "shell.execute_reply": "2021-09-30T10:46:39.471612Z",
     "shell.execute_reply.started": "2021-07-20T12:04:09.600082Z"
    },
    "papermill": {
     "duration": 0.059663,
     "end_time": "2021-09-30T10:46:39.471795",
     "exception": false,
     "start_time": "2021-09-30T10:46:39.412132",
     "status": "completed"
    },
    "tags": []
   },
   "outputs": [
    {
     "data": {
      "text/plain": [
       "array([ True, False])"
      ]
     },
     "execution_count": 39,
     "metadata": {},
     "output_type": "execute_result"
    }
   ],
   "source": [
    "data_without_outlier['is_happy_customer'].unique()"
   ]
  },
  {
   "cell_type": "code",
   "execution_count": 40,
   "id": "1d045126",
   "metadata": {
    "execution": {
     "iopub.execute_input": "2021-09-30T10:46:39.573420Z",
     "iopub.status.busy": "2021-09-30T10:46:39.572798Z",
     "iopub.status.idle": "2021-09-30T10:46:39.576176Z",
     "shell.execute_reply": "2021-09-30T10:46:39.576935Z",
     "shell.execute_reply.started": "2021-07-20T12:04:09.612598Z"
    },
    "papermill": {
     "duration": 0.057608,
     "end_time": "2021-09-30T10:46:39.577213",
     "exception": false,
     "start_time": "2021-09-30T10:46:39.519605",
     "status": "completed"
    },
    "tags": []
   },
   "outputs": [
    {
     "name": "stdout",
     "output_type": "stream",
     "text": [
      "True     301\n",
      "False    127\n",
      "Name: is_happy_customer, dtype: int64\n"
     ]
    }
   ],
   "source": [
    "satisfaction = data_without_outlier['is_happy_customer'].value_counts()\n",
    "print(satisfaction)"
   ]
  },
  {
   "cell_type": "markdown",
   "id": "7324c43b",
   "metadata": {
    "papermill": {
     "duration": 0.047136,
     "end_time": "2021-09-30T10:46:39.672758",
     "exception": false,
     "start_time": "2021-09-30T10:46:39.625622",
     "status": "completed"
    },
    "tags": []
   },
   "source": [
    "# <p style=\"background-color:#4d91ff;font-family:newtimeroman;color:#FFF9ED;font-size:140%;text-align:center;border-radius:10px 10px;\">Visualizing Data</p>"
   ]
  },
  {
   "cell_type": "code",
   "execution_count": 41,
   "id": "45be9fc9",
   "metadata": {
    "execution": {
     "iopub.execute_input": "2021-09-30T10:46:39.802276Z",
     "iopub.status.busy": "2021-09-30T10:46:39.800059Z",
     "iopub.status.idle": "2021-09-30T10:46:39.993282Z",
     "shell.execute_reply": "2021-09-30T10:46:39.992761Z",
     "shell.execute_reply.started": "2021-07-20T12:04:09.623597Z"
    },
    "papermill": {
     "duration": 0.273179,
     "end_time": "2021-09-30T10:46:39.993444",
     "exception": false,
     "start_time": "2021-09-30T10:46:39.720265",
     "status": "completed"
    },
    "tags": []
   },
   "outputs": [
    {
     "data": {
      "image/png": "[encoded data removed]",
      "text/plain": [
       "<Figure size 1080x360 with 2 Axes>"
      ]
     },
     "metadata": {
      "needs_background": "light"
     },
     "output_type": "display_data"
    }
   ],
   "source": [
    "plt.figure(figsize=(15,5))\n",
    "\n",
    "plt.subplot(121)\n",
    "satisfaction.plot(kind='bar', color=['g','r'], rot=1)\n",
    "plt.xticks(range(2), labels=['Satisfy','Not Satifty'])\n",
    "plt.ylabel('Counts')\n",
    "plt.title(\"Customer satisfaction Vs Not satisfaction\\n\", size=15)\n",
    "\n",
    "\n",
    "plt.subplot(122)\n",
    "plt.pie(satisfaction, labels=['Satisfy','Not Satifty'], autopct=\"%.1f%%\",explode=[0,0.1],shadow=True)\n",
    "plt.title(\"Percentage of Customer satisfaction Vs Not satisfaction\\n\", size=15)\n",
    "\n",
    "plt.show()"
   ]
  },
  {
   "cell_type": "markdown",
   "id": "2ca0528a",
   "metadata": {
    "papermill": {
     "duration": 0.049872,
     "end_time": "2021-09-30T10:46:40.093220",
     "exception": false,
     "start_time": "2021-09-30T10:46:40.043348",
     "status": "completed"
    },
    "tags": []
   },
   "source": [
    "## **70.3% customers are satisfy with service**"
   ]
  },
  {
   "cell_type": "markdown",
   "id": "2e7a9452",
   "metadata": {
    "papermill": {
     "duration": 0.049527,
     "end_time": "2021-09-30T10:46:40.191210",
     "exception": false,
     "start_time": "2021-09-30T10:46:40.141683",
     "status": "completed"
    },
    "tags": []
   },
   "source": [
    "# <p style=\"background-color:#4d91ff;font-family:newtimeroman;color:#FFF9ED;font-size:130%;text-align:center;border-radius:10px 10px;\">If you find this Notebook helpful, <font size=\"+3\" color=\"white\"><b>Please Upvote.</b></font><br> Thank you 😊\n",
    "</p>"
   ]
  }
 ],
 "metadata": {
  "kernelspec": {
   "display_name": "Python 3",
   "language": "python",
   "name": "python3"
  },
  "language_info": {
   "codemirror_mode": {
    "name": "ipython",
    "version": 3
   },
   "file_extension": ".py",
   "mimetype": "text/x-python",
   "name": "python",
   "nbconvert_exporter": "python",
   "pygments_lexer": "ipython3",
   "version": "3.7.10"
  },
  "papermill": {
   "default_parameters": {},
   "duration": 16.690709,
   "end_time": "2021-09-30T10:46:40.950850",
   "environment_variables": {},
   "exception": null,
   "input_path": "__notebook__.ipynb",
   "output_path": "__notebook__.ipynb",
   "parameters": {},
   "start_time": "2021-09-30T10:46:24.260141",
   "version": "2.3.3"
  }
 },
 "nbformat": 4,
 "nbformat_minor": 5
}
